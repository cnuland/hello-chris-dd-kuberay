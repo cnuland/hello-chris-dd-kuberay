{
 "cells": [
  {
   "cell_type": "code",
   "execution_count": 66,
   "id": "7766ac1d-6f3c-450d-921b-089461e49796",
   "metadata": {
    "tags": []
   },
   "outputs": [
    {
     "name": "stdout",
     "output_type": "stream",
     "text": [
      "Requirement already satisfied: codeflare-sdk in /opt/app-root/lib64/python3.11/site-packages (0.28.1)\n",
      "Requirement already satisfied: codeflare-torchx in /opt/app-root/lib64/python3.11/site-packages (0.6.0.dev2)\n",
      "Requirement already satisfied: cryptography==43.0.3 in /opt/app-root/lib64/python3.11/site-packages (from codeflare-sdk) (43.0.3)\n",
      "Requirement already satisfied: executing==1.2.0 in /opt/app-root/lib64/python3.11/site-packages (from codeflare-sdk) (1.2.0)\n",
      "Requirement already satisfied: ipywidgets==8.1.2 in /opt/app-root/lib64/python3.11/site-packages (from codeflare-sdk) (8.1.2)\n",
      "Requirement already satisfied: kubernetes>=27.2.0 in /opt/app-root/lib64/python3.11/site-packages (from codeflare-sdk) (32.0.1)\n",
      "Requirement already satisfied: openshift-client==1.0.18 in /opt/app-root/lib64/python3.11/site-packages (from codeflare-sdk) (1.0.18)\n",
      "Requirement already satisfied: pydantic<2 in /opt/app-root/lib64/python3.11/site-packages (from codeflare-sdk) (1.10.12)\n",
      "Requirement already satisfied: ray[data,default]==2.44.1 in /opt/app-root/lib64/python3.11/site-packages (from codeflare-sdk) (2.44.1)\n",
      "Requirement already satisfied: rich<14.0,>=12.5 in /opt/app-root/lib64/python3.11/site-packages (from codeflare-sdk) (12.6.0)\n",
      "Requirement already satisfied: cffi>=1.12 in /opt/app-root/lib64/python3.11/site-packages (from cryptography==43.0.3->codeflare-sdk) (1.15.1)\n",
      "Requirement already satisfied: comm>=0.1.3 in /opt/app-root/lib64/python3.11/site-packages (from ipywidgets==8.1.2->codeflare-sdk) (0.1.4)\n",
      "Requirement already satisfied: ipython>=6.1.0 in /opt/app-root/lib64/python3.11/site-packages (from ipywidgets==8.1.2->codeflare-sdk) (8.15.0)\n",
      "Requirement already satisfied: traitlets>=4.3.1 in /opt/app-root/lib64/python3.11/site-packages (from ipywidgets==8.1.2->codeflare-sdk) (5.10.0)\n",
      "Requirement already satisfied: widgetsnbextension~=4.0.10 in /opt/app-root/lib64/python3.11/site-packages (from ipywidgets==8.1.2->codeflare-sdk) (4.0.14)\n",
      "Requirement already satisfied: jupyterlab-widgets~=3.0.10 in /opt/app-root/lib64/python3.11/site-packages (from ipywidgets==8.1.2->codeflare-sdk) (3.0.15)\n",
      "Requirement already satisfied: six in /opt/app-root/lib64/python3.11/site-packages (from openshift-client==1.0.18->codeflare-sdk) (1.16.0)\n",
      "Requirement already satisfied: pyyaml in /opt/app-root/lib64/python3.11/site-packages (from openshift-client==1.0.18->codeflare-sdk) (6.0.1)\n",
      "Requirement already satisfied: paramiko in /opt/app-root/lib64/python3.11/site-packages (from openshift-client==1.0.18->codeflare-sdk) (3.3.1)\n",
      "Requirement already satisfied: click>=7.0 in /opt/app-root/lib64/python3.11/site-packages (from ray[data,default]==2.44.1->codeflare-sdk) (8.1.7)\n",
      "Requirement already satisfied: filelock in /opt/app-root/lib64/python3.11/site-packages (from ray[data,default]==2.44.1->codeflare-sdk) (3.12.4)\n",
      "Requirement already satisfied: jsonschema in /opt/app-root/lib64/python3.11/site-packages (from ray[data,default]==2.44.1->codeflare-sdk) (4.19.1)\n",
      "Requirement already satisfied: msgpack<2.0.0,>=1.0.0 in /opt/app-root/lib64/python3.11/site-packages (from ray[data,default]==2.44.1->codeflare-sdk) (1.0.6)\n",
      "Requirement already satisfied: packaging in /opt/app-root/lib64/python3.11/site-packages (from ray[data,default]==2.44.1->codeflare-sdk) (23.1)\n",
      "Requirement already satisfied: protobuf!=3.19.5,>=3.15.3 in /opt/app-root/lib64/python3.11/site-packages (from ray[data,default]==2.44.1->codeflare-sdk) (3.20.2)\n",
      "Requirement already satisfied: aiosignal in /opt/app-root/lib64/python3.11/site-packages (from ray[data,default]==2.44.1->codeflare-sdk) (1.3.1)\n",
      "Requirement already satisfied: frozenlist in /opt/app-root/lib64/python3.11/site-packages (from ray[data,default]==2.44.1->codeflare-sdk) (1.4.0)\n",
      "Requirement already satisfied: requests in /opt/app-root/lib64/python3.11/site-packages (from ray[data,default]==2.44.1->codeflare-sdk) (2.31.0)\n",
      "Requirement already satisfied: numpy>=1.20 in /opt/app-root/lib64/python3.11/site-packages (from ray[data,default]==2.44.1->codeflare-sdk) (1.24.4)\n",
      "Requirement already satisfied: pandas>=1.3 in /opt/app-root/lib64/python3.11/site-packages (from ray[data,default]==2.44.1->codeflare-sdk) (2.1.1)\n",
      "Requirement already satisfied: pyarrow>=9.0.0 in /opt/app-root/lib64/python3.11/site-packages (from ray[data,default]==2.44.1->codeflare-sdk) (20.0.0)\n",
      "Requirement already satisfied: fsspec in /opt/app-root/lib64/python3.11/site-packages (from ray[data,default]==2.44.1->codeflare-sdk) (2023.9.2)\n",
      "Requirement already satisfied: aiohttp>=3.7 in /opt/app-root/lib64/python3.11/site-packages (from ray[data,default]==2.44.1->codeflare-sdk) (3.8.5)\n",
      "Requirement already satisfied: aiohttp_cors in /opt/app-root/lib64/python3.11/site-packages (from ray[data,default]==2.44.1->codeflare-sdk) (0.7.0)\n",
      "Requirement already satisfied: colorful in /opt/app-root/lib64/python3.11/site-packages (from ray[data,default]==2.44.1->codeflare-sdk) (0.5.5)\n",
      "Requirement already satisfied: py-spy>=0.2.0 in /opt/app-root/lib64/python3.11/site-packages (from ray[data,default]==2.44.1->codeflare-sdk) (0.3.14)\n",
      "Requirement already satisfied: grpcio>=1.42.0 in /opt/app-root/lib64/python3.11/site-packages (from ray[data,default]==2.44.1->codeflare-sdk) (1.51.3)\n",
      "Requirement already satisfied: opencensus in /opt/app-root/lib64/python3.11/site-packages (from ray[data,default]==2.44.1->codeflare-sdk) (0.11.3)\n",
      "Requirement already satisfied: prometheus_client>=0.7.1 in /opt/app-root/lib64/python3.11/site-packages (from ray[data,default]==2.44.1->codeflare-sdk) (0.17.1)\n",
      "Requirement already satisfied: smart_open in /opt/app-root/lib64/python3.11/site-packages (from ray[data,default]==2.44.1->codeflare-sdk) (6.4.0)\n",
      "Requirement already satisfied: virtualenv!=20.21.1,>=20.0.24 in /opt/app-root/lib64/python3.11/site-packages (from ray[data,default]==2.44.1->codeflare-sdk) (20.21.0)\n",
      "Requirement already satisfied: pyre-extensions in /opt/app-root/lib64/python3.11/site-packages (from codeflare-torchx) (0.0.30)\n",
      "Requirement already satisfied: docstring-parser==0.8.1 in /opt/app-root/lib64/python3.11/site-packages (from codeflare-torchx) (0.8.1)\n",
      "Requirement already satisfied: importlib-metadata in /opt/app-root/lib64/python3.11/site-packages (from codeflare-torchx) (6.8.0)\n",
      "Requirement already satisfied: docker in /opt/app-root/lib64/python3.11/site-packages (from codeflare-torchx) (6.1.3)\n",
      "Requirement already satisfied: urllib3<1.27,>=1.21.1 in /opt/app-root/lib64/python3.11/site-packages (from codeflare-torchx) (1.26.16)\n",
      "Requirement already satisfied: tabulate in /opt/app-root/lib64/python3.11/site-packages (from codeflare-torchx) (0.9.0)\n",
      "Requirement already satisfied: certifi>=14.05.14 in /opt/app-root/lib64/python3.11/site-packages (from kubernetes>=27.2.0->codeflare-sdk) (2023.7.22)\n",
      "Requirement already satisfied: python-dateutil>=2.5.3 in /opt/app-root/lib64/python3.11/site-packages (from kubernetes>=27.2.0->codeflare-sdk) (2.8.2)\n",
      "Requirement already satisfied: google-auth>=1.0.1 in /opt/app-root/lib64/python3.11/site-packages (from kubernetes>=27.2.0->codeflare-sdk) (2.23.0)\n",
      "Requirement already satisfied: websocket-client!=0.40.0,!=0.41.*,!=0.42.*,>=0.32.0 in /opt/app-root/lib64/python3.11/site-packages (from kubernetes>=27.2.0->codeflare-sdk) (1.6.3)\n",
      "Requirement already satisfied: requests-oauthlib in /opt/app-root/lib64/python3.11/site-packages (from kubernetes>=27.2.0->codeflare-sdk) (1.3.1)\n",
      "Requirement already satisfied: oauthlib>=3.2.2 in /opt/app-root/lib64/python3.11/site-packages (from kubernetes>=27.2.0->codeflare-sdk) (3.2.2)\n",
      "Requirement already satisfied: durationpy>=0.7 in /opt/app-root/lib64/python3.11/site-packages (from kubernetes>=27.2.0->codeflare-sdk) (0.9)\n",
      "Requirement already satisfied: typing-extensions>=4.2.0 in /opt/app-root/lib64/python3.11/site-packages (from pydantic<2->codeflare-sdk) (4.8.0)\n",
      "Requirement already satisfied: commonmark<0.10.0,>=0.9.0 in /opt/app-root/lib64/python3.11/site-packages (from rich<14.0,>=12.5->codeflare-sdk) (0.9.1)\n",
      "Requirement already satisfied: pygments<3.0.0,>=2.6.0 in /opt/app-root/lib64/python3.11/site-packages (from rich<14.0,>=12.5->codeflare-sdk) (2.16.1)\n",
      "Requirement already satisfied: zipp>=0.5 in /opt/app-root/lib64/python3.11/site-packages (from importlib-metadata->codeflare-torchx) (3.17.0)\n",
      "Requirement already satisfied: typing-inspect in /opt/app-root/lib64/python3.11/site-packages (from pyre-extensions->codeflare-torchx) (0.9.0)\n",
      "Requirement already satisfied: attrs>=17.3.0 in /opt/app-root/lib64/python3.11/site-packages (from aiohttp>=3.7->ray[data,default]==2.44.1->codeflare-sdk) (23.1.0)\n",
      "Requirement already satisfied: charset-normalizer<4.0,>=2.0 in /opt/app-root/lib64/python3.11/site-packages (from aiohttp>=3.7->ray[data,default]==2.44.1->codeflare-sdk) (3.2.0)\n",
      "Requirement already satisfied: multidict<7.0,>=4.5 in /opt/app-root/lib64/python3.11/site-packages (from aiohttp>=3.7->ray[data,default]==2.44.1->codeflare-sdk) (6.0.4)\n",
      "Requirement already satisfied: async-timeout<5.0,>=4.0.0a3 in /opt/app-root/lib64/python3.11/site-packages (from aiohttp>=3.7->ray[data,default]==2.44.1->codeflare-sdk) (4.0.3)\n",
      "Requirement already satisfied: yarl<2.0,>=1.0 in /opt/app-root/lib64/python3.11/site-packages (from aiohttp>=3.7->ray[data,default]==2.44.1->codeflare-sdk) (1.9.2)\n",
      "Requirement already satisfied: pycparser in /opt/app-root/lib64/python3.11/site-packages (from cffi>=1.12->cryptography==43.0.3->codeflare-sdk) (2.21)\n",
      "Requirement already satisfied: cachetools<6.0,>=2.0.0 in /opt/app-root/lib64/python3.11/site-packages (from google-auth>=1.0.1->kubernetes>=27.2.0->codeflare-sdk) (5.3.1)\n",
      "Requirement already satisfied: pyasn1-modules>=0.2.1 in /opt/app-root/lib64/python3.11/site-packages (from google-auth>=1.0.1->kubernetes>=27.2.0->codeflare-sdk) (0.3.0)\n",
      "Requirement already satisfied: rsa<5,>=3.1.4 in /opt/app-root/lib64/python3.11/site-packages (from google-auth>=1.0.1->kubernetes>=27.2.0->codeflare-sdk) (4.9)\n",
      "Requirement already satisfied: backcall in /opt/app-root/lib64/python3.11/site-packages (from ipython>=6.1.0->ipywidgets==8.1.2->codeflare-sdk) (0.2.0)\n",
      "Requirement already satisfied: decorator in /opt/app-root/lib64/python3.11/site-packages (from ipython>=6.1.0->ipywidgets==8.1.2->codeflare-sdk) (5.1.1)\n",
      "Requirement already satisfied: jedi>=0.16 in /opt/app-root/lib64/python3.11/site-packages (from ipython>=6.1.0->ipywidgets==8.1.2->codeflare-sdk) (0.17.2)\n",
      "Requirement already satisfied: matplotlib-inline in /opt/app-root/lib64/python3.11/site-packages (from ipython>=6.1.0->ipywidgets==8.1.2->codeflare-sdk) (0.1.6)\n",
      "Requirement already satisfied: pickleshare in /opt/app-root/lib64/python3.11/site-packages (from ipython>=6.1.0->ipywidgets==8.1.2->codeflare-sdk) (0.7.5)\n",
      "Requirement already satisfied: prompt-toolkit!=3.0.37,<3.1.0,>=3.0.30 in /opt/app-root/lib64/python3.11/site-packages (from ipython>=6.1.0->ipywidgets==8.1.2->codeflare-sdk) (3.0.39)\n",
      "Requirement already satisfied: stack-data in /opt/app-root/lib64/python3.11/site-packages (from ipython>=6.1.0->ipywidgets==8.1.2->codeflare-sdk) (0.6.2)\n",
      "Requirement already satisfied: pexpect>4.3 in /opt/app-root/lib64/python3.11/site-packages (from ipython>=6.1.0->ipywidgets==8.1.2->codeflare-sdk) (4.8.0)\n",
      "Requirement already satisfied: pytz>=2020.1 in /opt/app-root/lib64/python3.11/site-packages (from pandas>=1.3->ray[data,default]==2.44.1->codeflare-sdk) (2023.3.post1)\n",
      "Requirement already satisfied: tzdata>=2022.1 in /opt/app-root/lib64/python3.11/site-packages (from pandas>=1.3->ray[data,default]==2.44.1->codeflare-sdk) (2023.3)\n",
      "Requirement already satisfied: idna<4,>=2.5 in /opt/app-root/lib64/python3.11/site-packages (from requests->ray[data,default]==2.44.1->codeflare-sdk) (3.4)\n",
      "Requirement already satisfied: distlib<1,>=0.3.6 in /opt/app-root/lib64/python3.11/site-packages (from virtualenv!=20.21.1,>=20.0.24->ray[data,default]==2.44.1->codeflare-sdk) (0.3.7)\n",
      "Requirement already satisfied: platformdirs<4,>=2.4 in /opt/app-root/lib64/python3.11/site-packages (from virtualenv!=20.21.1,>=20.0.24->ray[data,default]==2.44.1->codeflare-sdk) (3.10.0)\n",
      "Requirement already satisfied: jsonschema-specifications>=2023.03.6 in /opt/app-root/lib64/python3.11/site-packages (from jsonschema->ray[data,default]==2.44.1->codeflare-sdk) (2023.7.1)\n",
      "Requirement already satisfied: referencing>=0.28.4 in /opt/app-root/lib64/python3.11/site-packages (from jsonschema->ray[data,default]==2.44.1->codeflare-sdk) (0.30.2)\n",
      "Requirement already satisfied: rpds-py>=0.7.1 in /opt/app-root/lib64/python3.11/site-packages (from jsonschema->ray[data,default]==2.44.1->codeflare-sdk) (0.10.3)\n",
      "Requirement already satisfied: opencensus-context>=0.1.3 in /opt/app-root/lib64/python3.11/site-packages (from opencensus->ray[data,default]==2.44.1->codeflare-sdk) (0.1.3)\n",
      "Requirement already satisfied: google-api-core<3.0.0,>=1.0.0 in /opt/app-root/lib64/python3.11/site-packages (from opencensus->ray[data,default]==2.44.1->codeflare-sdk) (2.12.0)\n",
      "Requirement already satisfied: bcrypt>=3.2 in /opt/app-root/lib64/python3.11/site-packages (from paramiko->openshift-client==1.0.18->codeflare-sdk) (4.0.1)\n",
      "Requirement already satisfied: pynacl>=1.5 in /opt/app-root/lib64/python3.11/site-packages (from paramiko->openshift-client==1.0.18->codeflare-sdk) (1.5.0)\n",
      "Requirement already satisfied: mypy-extensions>=0.3.0 in /opt/app-root/lib64/python3.11/site-packages (from typing-inspect->pyre-extensions->codeflare-torchx) (1.0.0)\n",
      "Requirement already satisfied: googleapis-common-protos<2.0.dev0,>=1.56.2 in /opt/app-root/lib64/python3.11/site-packages (from google-api-core<3.0.0,>=1.0.0->opencensus->ray[data,default]==2.44.1->codeflare-sdk) (1.60.0)\n",
      "Requirement already satisfied: parso<0.8.0,>=0.7.0 in /opt/app-root/lib64/python3.11/site-packages (from jedi>=0.16->ipython>=6.1.0->ipywidgets==8.1.2->codeflare-sdk) (0.7.1)\n",
      "Requirement already satisfied: ptyprocess>=0.5 in /opt/app-root/lib64/python3.11/site-packages (from pexpect>4.3->ipython>=6.1.0->ipywidgets==8.1.2->codeflare-sdk) (0.7.0)\n",
      "Requirement already satisfied: wcwidth in /opt/app-root/lib64/python3.11/site-packages (from prompt-toolkit!=3.0.37,<3.1.0,>=3.0.30->ipython>=6.1.0->ipywidgets==8.1.2->codeflare-sdk) (0.2.6)\n",
      "Requirement already satisfied: pyasn1<0.6.0,>=0.4.6 in /opt/app-root/lib64/python3.11/site-packages (from pyasn1-modules>=0.2.1->google-auth>=1.0.1->kubernetes>=27.2.0->codeflare-sdk) (0.5.0)\n",
      "Requirement already satisfied: asttokens>=2.1.0 in /opt/app-root/lib64/python3.11/site-packages (from stack-data->ipython>=6.1.0->ipywidgets==8.1.2->codeflare-sdk) (2.4.0)\n",
      "Requirement already satisfied: pure-eval in /opt/app-root/lib64/python3.11/site-packages (from stack-data->ipython>=6.1.0->ipywidgets==8.1.2->codeflare-sdk) (0.2.2)\n",
      "\n",
      "\u001b[1m[\u001b[0m\u001b[34;49mnotice\u001b[0m\u001b[1;39;49m]\u001b[0m\u001b[39;49m A new release of pip is available: \u001b[0m\u001b[31;49m23.2.1\u001b[0m\u001b[39;49m -> \u001b[0m\u001b[32;49m25.1.1\u001b[0m\n",
      "\u001b[1m[\u001b[0m\u001b[34;49mnotice\u001b[0m\u001b[1;39;49m]\u001b[0m\u001b[39;49m To update, run: \u001b[0m\u001b[32;49mpip install --upgrade pip\u001b[0m\n",
      "Note: you may need to restart the kernel to use updated packages.\n"
     ]
    }
   ],
   "source": [
    "pip install codeflare-sdk codeflare-torchx"
   ]
  },
  {
   "cell_type": "code",
   "execution_count": 67,
   "id": "e14d75c5",
   "metadata": {
    "tags": [],
    "vscode": {
     "languageId": "plaintext"
    }
   },
   "outputs": [],
   "source": [
    "from codeflare_sdk import Cluster, ClusterConfiguration, TokenAuthentication, RayJobClient, Authentication\n",
    "import os\n",
    "import sys"
   ]
  },
  {
   "cell_type": "code",
   "execution_count": 68,
   "id": "355054c3",
   "metadata": {
    "tags": [],
    "vscode": {
     "languageId": "plaintext"
    }
   },
   "outputs": [
    {
     "data": {
      "text/plain": [
       "'Logged into https://api.rosa-wswzx.e1i3.p3.openshiftapps.com:443'"
      ]
     },
     "execution_count": 68,
     "metadata": {},
     "output_type": "execute_result"
    }
   ],
   "source": [
    "# Authenticate the CodeFlare SDK\n",
    "# On OpenShift, you can retrieve the token by running `oc whoami -t`,\n",
    "# and the server with `oc cluster-info`.\n",
    "auth = TokenAuthentication(\n",
    "    token = 'sha256~fQn4wapQ51HZyAGOSLxjUMHGfB-hdt7UTpPTYphK2Qk',\n",
    "    server = 'https://api.rosa-wswzx.e1i3.p3.openshiftapps.com:443',\n",
    "    skip_tls=False\n",
    ")\n",
    "auth.login()"
   ]
  },
  {
   "cell_type": "code",
   "execution_count": 69,
   "id": "7b65a6c1-5f87-473f-b345-fdf6ab84ff73",
   "metadata": {
    "tags": [],
    "vscode": {
     "languageId": "plaintext"
    }
   },
   "outputs": [
    {
     "name": "stdout",
     "output_type": "stream",
     "text": [
      "Yaml resources loaded for dd-rl\n"
     ]
    },
    {
     "data": {
      "application/vnd.jupyter.widget-view+json": {
       "model_id": "ebf125daf93b47ac9c627a6059d2d27b",
       "version_major": 2,
       "version_minor": 0
      },
      "text/plain": [
       "VBox(children=(HBox(children=(Button(description='Cluster Up', icon='play', style=ButtonStyle(), tooltip='Crea…"
      ]
     },
     "metadata": {},
     "output_type": "display_data"
    },
    {
     "data": {
      "application/vnd.jupyter.widget-view+json": {
       "model_id": "4a31c9d1df37434b9ec4e7f6c18c1b06",
       "version_major": 2,
       "version_minor": 0
      },
      "text/plain": [
       "Output()"
      ]
     },
     "metadata": {},
     "output_type": "display_data"
    }
   ],
   "source": [
    "# Configure the Ray cluster\n",
    "cluster = Cluster(ClusterConfiguration(\n",
    "    head_cpu_requests=4,\n",
    "    head_cpu_limits=8,\n",
    "    head_memory_requests=4,\n",
    "    head_memory_limits=8,\n",
    "    name='dd-rl',\n",
    "    namespace='hello-chris-ai-3',\n",
    "    num_workers=1,\n",
    "    worker_cpu_requests=4,\n",
    "    worker_cpu_limits=4,\n",
    "    worker_memory_requests=4,\n",
    "    worker_memory_limits=4,\n",
    "    # Use the following parameters with NVIDIA GPUs\n",
    "    #image=\"quay.io/cnuland/dd-kuberay-worker:latest\",\n",
    "    head_extended_resource_requests={'nvidia.com/gpu':1},\n",
    "    worker_extended_resource_requests={'nvidia.com/gpu':1},\n",
    "    write_to_file=False,\n",
    "    local_queue=\"user-queue\"\n",
    "))"
   ]
  },
  {
   "cell_type": "code",
   "execution_count": 70,
   "id": "2924cb7a",
   "metadata": {
    "tags": [],
    "vscode": {
     "languageId": "plaintext"
    }
   },
   "outputs": [
    {
     "name": "stdout",
     "output_type": "stream",
     "text": [
      "WARNING: The up() function is planned for deprecation in favor of apply().\n",
      "Ray Cluster: 'dd-rl' has successfully been created\n"
     ]
    }
   ],
   "source": [
    "# Create the Ray cluster\n",
    "cluster.up()"
   ]
  },
  {
   "cell_type": "markdown",
   "id": "cbbe4444",
   "metadata": {},
   "source": []
  },
  {
   "cell_type": "code",
   "execution_count": 71,
   "id": "d70b254e",
   "metadata": {
    "tags": [],
    "vscode": {
     "languageId": "plaintext"
    }
   },
   "outputs": [
    {
     "name": "stdout",
     "output_type": "stream",
     "text": [
      "Waiting for requested resources to be set up...\n",
      "Requested cluster is up and running!\n",
      "Dashboard is ready!\n"
     ]
    }
   ],
   "source": [
    "cluster.wait_ready()"
   ]
  },
  {
   "cell_type": "code",
   "execution_count": 72,
   "id": "b6270953",
   "metadata": {
    "tags": [],
    "vscode": {
     "languageId": "plaintext"
    }
   },
   "outputs": [
    {
     "data": {
      "text/html": [
       "<pre style=\"white-space:pre;overflow-x:auto;line-height:normal;font-family:Menlo,'DejaVu Sans Mono',consolas,'Courier New',monospace\"><span style=\"font-style: italic\">                    </span><span style=\"font-weight: bold; font-style: italic\"> 🚀 CodeFlare Cluster Details 🚀</span><span style=\"font-style: italic\">                     </span>\n",
       "<span style=\"font-weight: bold\">                                                                         </span>\n",
       " ╭─────────────────────────────────────────────────────────────────────╮ \n",
       " │   <span style=\"color: #c0c0c0; text-decoration-color: #c0c0c0; background-color: #008000; font-weight: bold\">Name</span>                                                              │ \n",
       " │   <span style=\"font-weight: bold; text-decoration: underline\">dd-rl</span>                                                 Active ✅   │ \n",
       " │                                                                     │ \n",
       " │   <span style=\"font-weight: bold\">URI:</span> ray://dd-rl-head-svc.hello-chris-ai-3.svc:10001              │ \n",
       " │                                                                     │ \n",
       " │   <a href=\"https://ray-dashboard-dd-rl-hello-chris-ai-3.apps.rosa.rosa-wswzx.e1i3.p3.openshiftapps.com\" target=\"_blank\"><span style=\"color: #000080; text-decoration-color: #000080; text-decoration: underline\">Dashboard🔗</span></a>                                                       │ \n",
       " │                                                                     │ \n",
       " │  <span style=\"font-style: italic\">                     Cluster Resources                     </span>        │ \n",
       " │   ╭── Workers ──╮  ╭───────── Worker specs(each) ─────────╮         │ \n",
       " │   │ <span style=\"font-weight: bold\"> # Workers </span> │  │ <span style=\"font-weight: bold\"> Memory      CPU         GPU        </span> │         │ \n",
       " │   │ <span style=\"color: #800080; text-decoration-color: #800080\">           </span> │  │ <span style=\"color: #008080; text-decoration-color: #008080\">            </span><span style=\"color: #800080; text-decoration-color: #800080\">                        </span> │         │ \n",
       " │   │ <span style=\"color: #800080; text-decoration-color: #800080\"> 1         </span> │  │ <span style=\"color: #008080; text-decoration-color: #008080\"> 4G~4G      </span><span style=\"color: #800080; text-decoration-color: #800080\"> 4~4         1          </span> │         │ \n",
       " │   │ <span style=\"color: #800080; text-decoration-color: #800080\">           </span> │  │ <span style=\"color: #008080; text-decoration-color: #008080\">            </span><span style=\"color: #800080; text-decoration-color: #800080\">                        </span> │         │ \n",
       " │   ╰─────────────╯  ╰──────────────────────────────────────╯         │ \n",
       " ╰─────────────────────────────────────────────────────────────────────╯ \n",
       "</pre>\n"
      ],
      "text/plain": [
       "\u001b[3m                    \u001b[0m\u001b[1;3m 🚀 CodeFlare Cluster Details 🚀\u001b[0m\u001b[3m                     \u001b[0m\n",
       "\u001b[1m \u001b[0m\u001b[1m                                                                       \u001b[0m\u001b[1m \u001b[0m\n",
       " ╭─────────────────────────────────────────────────────────────────────╮ \n",
       " │   \u001b[1;37;42mName\u001b[0m                                                              │ \n",
       " │   \u001b[1;4mdd-rl\u001b[0m                                                 Active ✅   │ \n",
       " │                                                                     │ \n",
       " │   \u001b[1mURI:\u001b[0m ray://dd-rl-head-svc.hello-chris-ai-3.svc:10001              │ \n",
       " │                                                                     │ \n",
       " │   \u001b]8;id=732303;https://ray-dashboard-dd-rl-hello-chris-ai-3.apps.rosa.rosa-wswzx.e1i3.p3.openshiftapps.com\u001b\\\u001b[4;34mDashboard🔗\u001b[0m\u001b]8;;\u001b\\                                                       │ \n",
       " │                                                                     │ \n",
       " │  \u001b[3m                     Cluster Resources                     \u001b[0m        │ \n",
       " │   ╭── Workers ──╮  ╭───────── Worker specs(each) ─────────╮         │ \n",
       " │   │ \u001b[1m \u001b[0m\u001b[1m# Workers\u001b[0m\u001b[1m \u001b[0m │  │ \u001b[1m \u001b[0m\u001b[1mMemory    \u001b[0m\u001b[1m \u001b[0m\u001b[1m \u001b[0m\u001b[1mCPU       \u001b[0m\u001b[1m \u001b[0m\u001b[1m \u001b[0m\u001b[1mGPU       \u001b[0m\u001b[1m \u001b[0m │         │ \n",
       " │   │ \u001b[35m \u001b[0m\u001b[35m         \u001b[0m\u001b[35m \u001b[0m │  │ \u001b[36m \u001b[0m\u001b[36m          \u001b[0m\u001b[36m \u001b[0m\u001b[35m \u001b[0m\u001b[35m          \u001b[0m\u001b[35m \u001b[0m\u001b[35m \u001b[0m\u001b[35m          \u001b[0m\u001b[35m \u001b[0m │         │ \n",
       " │   │ \u001b[35m \u001b[0m\u001b[35m1        \u001b[0m\u001b[35m \u001b[0m │  │ \u001b[36m \u001b[0m\u001b[36m4G~4G     \u001b[0m\u001b[36m \u001b[0m\u001b[35m \u001b[0m\u001b[35m4~4       \u001b[0m\u001b[35m \u001b[0m\u001b[35m \u001b[0m\u001b[35m1         \u001b[0m\u001b[35m \u001b[0m │         │ \n",
       " │   │ \u001b[35m \u001b[0m\u001b[35m         \u001b[0m\u001b[35m \u001b[0m │  │ \u001b[36m \u001b[0m\u001b[36m          \u001b[0m\u001b[36m \u001b[0m\u001b[35m \u001b[0m\u001b[35m          \u001b[0m\u001b[35m \u001b[0m\u001b[35m \u001b[0m\u001b[35m          \u001b[0m\u001b[35m \u001b[0m │         │ \n",
       " │   ╰─────────────╯  ╰──────────────────────────────────────╯         │ \n",
       " ╰─────────────────────────────────────────────────────────────────────╯ \n"
      ]
     },
     "metadata": {},
     "output_type": "display_data"
    },
    {
     "data": {
      "text/plain": [
       "RayCluster(name='dd-rl', status=<RayClusterStatus.READY: 'ready'>, head_cpu_requests=4, head_cpu_limits=8, head_mem_requests='4G', head_mem_limits='8G', num_workers=1, worker_mem_requests='4G', worker_mem_limits='4G', worker_cpu_requests=4, worker_cpu_limits=4, namespace='hello-chris-ai-3', dashboard='https://ray-dashboard-dd-rl-hello-chris-ai-3.apps.rosa.rosa-wswzx.e1i3.p3.openshiftapps.com', worker_extended_resources={'nvidia.com/gpu': 1}, head_extended_resources={'nvidia.com/gpu': 1})"
      ]
     },
     "execution_count": 72,
     "metadata": {},
     "output_type": "execute_result"
    }
   ],
   "source": [
    "cluster.details()"
   ]
  },
  {
   "cell_type": "code",
   "execution_count": 73,
   "id": "bf06d743-605b-40ce-8f38-085e9014c1db",
   "metadata": {
    "tags": []
   },
   "outputs": [
    {
     "data": {
      "text/html": [
       "<pre style=\"white-space:pre;overflow-x:auto;line-height:normal;font-family:Menlo,'DejaVu Sans Mono',consolas,'Courier New',monospace\"><span style=\"font-style: italic\">                    </span><span style=\"font-weight: bold; font-style: italic\"> 🚀 CodeFlare Cluster Details 🚀</span><span style=\"font-style: italic\">                     </span>\n",
       "<span style=\"font-weight: bold\">                                                                         </span>\n",
       " ╭─────────────────────────────────────────────────────────────────────╮ \n",
       " │   <span style=\"color: #c0c0c0; text-decoration-color: #c0c0c0; background-color: #008000; font-weight: bold\">Name</span>                                                              │ \n",
       " │   <span style=\"font-weight: bold; text-decoration: underline\">dd-rl</span>                                                 Active ✅   │ \n",
       " │                                                                     │ \n",
       " │   <span style=\"font-weight: bold\">URI:</span> ray://dd-rl-head-svc.hello-chris-ai-3.svc:10001              │ \n",
       " │                                                                     │ \n",
       " │   <a href=\"https://ray-dashboard-dd-rl-hello-chris-ai-3.apps.rosa.rosa-wswzx.e1i3.p3.openshiftapps.com\" target=\"_blank\"><span style=\"color: #000080; text-decoration-color: #000080; text-decoration: underline\">Dashboard🔗</span></a>                                                       │ \n",
       " │                                                                     │ \n",
       " │  <span style=\"font-style: italic\">                     Cluster Resources                     </span>        │ \n",
       " │   ╭── Workers ──╮  ╭───────── Worker specs(each) ─────────╮         │ \n",
       " │   │ <span style=\"font-weight: bold\"> # Workers </span> │  │ <span style=\"font-weight: bold\"> Memory      CPU         GPU        </span> │         │ \n",
       " │   │ <span style=\"color: #800080; text-decoration-color: #800080\">           </span> │  │ <span style=\"color: #008080; text-decoration-color: #008080\">            </span><span style=\"color: #800080; text-decoration-color: #800080\">                        </span> │         │ \n",
       " │   │ <span style=\"color: #800080; text-decoration-color: #800080\"> 1         </span> │  │ <span style=\"color: #008080; text-decoration-color: #008080\"> 4G~4G      </span><span style=\"color: #800080; text-decoration-color: #800080\"> 4~4         1          </span> │         │ \n",
       " │   │ <span style=\"color: #800080; text-decoration-color: #800080\">           </span> │  │ <span style=\"color: #008080; text-decoration-color: #008080\">            </span><span style=\"color: #800080; text-decoration-color: #800080\">                        </span> │         │ \n",
       " │   ╰─────────────╯  ╰──────────────────────────────────────╯         │ \n",
       " ╰─────────────────────────────────────────────────────────────────────╯ \n",
       "</pre>\n"
      ],
      "text/plain": [
       "\u001b[3m                    \u001b[0m\u001b[1;3m 🚀 CodeFlare Cluster Details 🚀\u001b[0m\u001b[3m                     \u001b[0m\n",
       "\u001b[1m \u001b[0m\u001b[1m                                                                       \u001b[0m\u001b[1m \u001b[0m\n",
       " ╭─────────────────────────────────────────────────────────────────────╮ \n",
       " │   \u001b[1;37;42mName\u001b[0m                                                              │ \n",
       " │   \u001b[1;4mdd-rl\u001b[0m                                                 Active ✅   │ \n",
       " │                                                                     │ \n",
       " │   \u001b[1mURI:\u001b[0m ray://dd-rl-head-svc.hello-chris-ai-3.svc:10001              │ \n",
       " │                                                                     │ \n",
       " │   \u001b]8;id=45709;https://ray-dashboard-dd-rl-hello-chris-ai-3.apps.rosa.rosa-wswzx.e1i3.p3.openshiftapps.com\u001b\\\u001b[4;34mDashboard🔗\u001b[0m\u001b]8;;\u001b\\                                                       │ \n",
       " │                                                                     │ \n",
       " │  \u001b[3m                     Cluster Resources                     \u001b[0m        │ \n",
       " │   ╭── Workers ──╮  ╭───────── Worker specs(each) ─────────╮         │ \n",
       " │   │ \u001b[1m \u001b[0m\u001b[1m# Workers\u001b[0m\u001b[1m \u001b[0m │  │ \u001b[1m \u001b[0m\u001b[1mMemory    \u001b[0m\u001b[1m \u001b[0m\u001b[1m \u001b[0m\u001b[1mCPU       \u001b[0m\u001b[1m \u001b[0m\u001b[1m \u001b[0m\u001b[1mGPU       \u001b[0m\u001b[1m \u001b[0m │         │ \n",
       " │   │ \u001b[35m \u001b[0m\u001b[35m         \u001b[0m\u001b[35m \u001b[0m │  │ \u001b[36m \u001b[0m\u001b[36m          \u001b[0m\u001b[36m \u001b[0m\u001b[35m \u001b[0m\u001b[35m          \u001b[0m\u001b[35m \u001b[0m\u001b[35m \u001b[0m\u001b[35m          \u001b[0m\u001b[35m \u001b[0m │         │ \n",
       " │   │ \u001b[35m \u001b[0m\u001b[35m1        \u001b[0m\u001b[35m \u001b[0m │  │ \u001b[36m \u001b[0m\u001b[36m4G~4G     \u001b[0m\u001b[36m \u001b[0m\u001b[35m \u001b[0m\u001b[35m4~4       \u001b[0m\u001b[35m \u001b[0m\u001b[35m \u001b[0m\u001b[35m1         \u001b[0m\u001b[35m \u001b[0m │         │ \n",
       " │   │ \u001b[35m \u001b[0m\u001b[35m         \u001b[0m\u001b[35m \u001b[0m │  │ \u001b[36m \u001b[0m\u001b[36m          \u001b[0m\u001b[36m \u001b[0m\u001b[35m \u001b[0m\u001b[35m          \u001b[0m\u001b[35m \u001b[0m\u001b[35m \u001b[0m\u001b[35m          \u001b[0m\u001b[35m \u001b[0m │         │ \n",
       " │   ╰─────────────╯  ╰──────────────────────────────────────╯         │ \n",
       " ╰─────────────────────────────────────────────────────────────────────╯ \n"
      ]
     },
     "metadata": {},
     "output_type": "display_data"
    }
   ],
   "source": [
    "clusterDetails = cluster.details()"
   ]
  },
  {
   "cell_type": "code",
   "execution_count": 78,
   "id": "cf29b6d6",
   "metadata": {
    "tags": [],
    "vscode": {
     "languageId": "plaintext"
    }
   },
   "outputs": [
    {
     "data": {
      "text/html": [
       "<pre style=\"white-space:pre;overflow-x:auto;line-height:normal;font-family:Menlo,'DejaVu Sans Mono',consolas,'Courier New',monospace\"><span style=\"font-style: italic\">                     </span><span style=\"font-weight: bold; font-style: italic\"> 🚀 CodeFlare Cluster Status 🚀</span><span style=\"font-style: italic\">                     </span>\n",
       "<span style=\"font-weight: bold\">                                                                         </span>\n",
       " ╭─────────────────────────────────────────────────────────────────────╮ \n",
       " │   <span style=\"color: #c0c0c0; text-decoration-color: #c0c0c0; background-color: #008000; font-weight: bold\">Name</span>                                                              │ \n",
       " │   <span style=\"font-weight: bold; text-decoration: underline\">dd-rl</span>                                                 Active ✅   │ \n",
       " │                                                                     │ \n",
       " │   <span style=\"font-weight: bold\">URI:</span> ray://dd-rl-head-svc.hello-chris-ai-3.svc:10001              │ \n",
       " │                                                                     │ \n",
       " │   <a href=\"https://ray-dashboard-dd-rl-hello-chris-ai-3.apps.rosa.rosa-wswzx.e1i3.p3.openshiftapps.com\" target=\"_blank\"><span style=\"color: #000080; text-decoration-color: #000080; text-decoration: underline\">Dashboard🔗</span></a>                                                       │ \n",
       " │                                                                     │ \n",
       " ╰─────────────────────────────────────────────────────────────────────╯ \n",
       "</pre>\n"
      ],
      "text/plain": [
       "\u001b[3m                     \u001b[0m\u001b[1;3m 🚀 CodeFlare Cluster Status 🚀\u001b[0m\u001b[3m                     \u001b[0m\n",
       "\u001b[1m \u001b[0m\u001b[1m                                                                       \u001b[0m\u001b[1m \u001b[0m\n",
       " ╭─────────────────────────────────────────────────────────────────────╮ \n",
       " │   \u001b[1;37;42mName\u001b[0m                                                              │ \n",
       " │   \u001b[1;4mdd-rl\u001b[0m                                                 Active ✅   │ \n",
       " │                                                                     │ \n",
       " │   \u001b[1mURI:\u001b[0m ray://dd-rl-head-svc.hello-chris-ai-3.svc:10001              │ \n",
       " │                                                                     │ \n",
       " │   \u001b]8;id=62648;https://ray-dashboard-dd-rl-hello-chris-ai-3.apps.rosa.rosa-wswzx.e1i3.p3.openshiftapps.com\u001b\\\u001b[4;34mDashboard🔗\u001b[0m\u001b]8;;\u001b\\                                                       │ \n",
       " │                                                                     │ \n",
       " ╰─────────────────────────────────────────────────────────────────────╯ \n"
      ]
     },
     "metadata": {},
     "output_type": "display_data"
    },
    {
     "name": "stderr",
     "output_type": "stream",
     "text": [
      "2025-05-16 21:53:44,371\tINFO dashboard_sdk.py:338 -- Uploading package gcs://_ray_pkg_163ee063fdb862d2.zip.\n",
      "2025-05-16 21:53:44,372\tINFO packaging.py:575 -- Creating a file package for local module './'.\n"
     ]
    },
    {
     "name": "stdout",
     "output_type": "stream",
     "text": [
      "Ray Dashboard URL: https://ray-dashboard-dd-rl-hello-chris-ai-3.apps.rosa.rosa-wswzx.e1i3.p3.openshiftapps.com\n",
      "Attempting to connect RayJobClient to: https//rayclient-dd-rl-hello-chris-ai-3.apps.rosa.rosa-wswzx.e1i3.p3.openshiftapps.com\n",
      "Submitting Ray job...\n",
      "Job submitted successfully! Submission ID: raysubmit_6TwzzKzjNSh86Sdp\n",
      "You can monitor the job status using client.get_job_status(submission_id)\n",
      "And logs using client.get_job_logs(submission_id)\n",
      "Job status: PENDING\n",
      "Error submitting job: name 'JobStatus' is not defined\n"
     ]
    }
   ],
   "source": [
    "# Create or connect to the Ray cluster\n",
    "cluster.status()\n",
    "print(f\"Ray Dashboard URL: {clusterDetails.dashboard}\")\n",
    "\n",
    "\n",
    "# Initialize RayJobClient\n",
    "# The address for RayJobClient should be the Ray head service, often exposed via a route or service URL.\n",
    "# CodeFlare SDK's `cluster.details()` might provide this, or `cluster.cluster_uri()` for internal access.\n",
    "# For external access (like from your notebook to submit job), you might need the Ray dashboard or a client service URL.\n",
    "# Let's assume client can connect to where jobs are submitted (usually Ray head/dashboard)\n",
    "# If your notebook runs outside the OpenShift cluster, you might need an external route to Ray head.\n",
    "# For simplicity, using cluster_uri() which is often for internal connections; adapt if needed.\n",
    "# A common pattern is to use the dashboard URL for the RayJobClient if it's accessible.\n",
    "try:\n",
    "    # Attempt connection to Ray head, may need adjustment based on network setup\n",
    "    # For jobs, it's often `address=\"ray://<head_service_host>:<port>\"`\n",
    "    # If dashboard_url is http://...:8265, client address is often the same host but port 10001 for ray client.\n",
    "    # For KubeRay, the service for Ray client is often 'raycluster-kuberay-head-svc'.\n",
    "    # The dashboard_url() from codeflare might be what you need directly or with minor modification.\n",
    "    \n",
    "    # A common approach is to use the dashboard URL if it's correctly pointing to the Ray head service endpoint.\n",
    "    # However, RayJobClient expects a Ray Client server address (ray://) or HTTP proxy.\n",
    "    # If your 'cluster.dashboard_url()' provides an HTTP URL for the dashboard,\n",
    "    # Ray Client can connect via HTTP Proxy if enabled (Ray >= 1.13).\n",
    "    # ray_client_address = \"http://\" + cluster.dashboard_url().split(\"://\")[1] # Simplified, assumes standard port or proxy setup\n",
    "    \n",
    "    # It's safer to get the specific client connection string if available.\n",
    "    # Let's assume Codeflare SDK handles this abstraction or you can derive it.\n",
    "    # If running locally and port-forwarding Ray head's client port (default 10001):\n",
    "    # client_address = \"ray://localhost:10001\"\n",
    "    # When submitting from the environment that can reach the Ray head:\n",
    "    #client_address = clusterDetails.dashboard # Check if this works directly or needs adjustment for RayJobClient\n",
    "                                         # It may need to be like \"http://<host>:<dashboard_port>\"\n",
    "    client_address = \"https//rayclient-dd-rl-hello-chris-ai-3.apps.rosa.rosa-wswzx.e1i3.p3.openshiftapps.com\"\n",
    "    print(f\"Attempting to connect RayJobClient to: {client_address}\")\n",
    "    client = cluster.job_client\n",
    "\n",
    "\n",
    "except Exception as e:\n",
    "    print(f\"Error initializing RayJobClient: {e}\")\n",
    "    print(\"Please ensure the Ray client server is accessible from where you are running this notebook.\")\n",
    "    print(\"You might need to set up port-forwarding or use an external route to the Ray head service.\")\n",
    "    client = None # Ensure client is None if connection fails\n",
    "\n",
    "    \n",
    "if client:\n",
    "    print(\"Submitting Ray job...\")\n",
    "\n",
    "    try:\n",
    "        submission_id = client.submit_job(\n",
    "            entrypoint=\"python run-ray-dd.py\",\n",
    "            runtime_env={\n",
    "                'working_dir': './',\n",
    "                \"excludes\": [\"*.sh\", \"*.ipynb\", \"*.md\"]\n",
    "            },\n",
    "        )\n",
    "        print(f\"Job submitted successfully! Submission ID: {submission_id}\")\n",
    "        print(\"You can monitor the job status using client.get_job_status(submission_id)\")\n",
    "        print(\"And logs using client.get_job_logs(submission_id)\")\n",
    "\n",
    "        # Example: Poll for job status\n",
    "        # import time\n",
    "        while True:\n",
    "            status = client.get_job_status(submission_id)\n",
    "            print(f\"Job status: {status}\")\n",
    "            if status in [JobStatus.SUCCEEDED, JobStatus.FAILED, JobStatus.STOPPED]:\n",
    "                break\n",
    "            time.sleep(5)\n",
    "            print(f\"Final job logs:\\n{client.get_job_logs(submission_id)}\")\n",
    "\n",
    "    except Exception as e:\n",
    "        print(f\"Error submitting job: {e}\")\n",
    "else:\n",
    "    print(\"RayJobClient not initialized. Cannot submit job.\")"
   ]
  },
  {
   "cell_type": "code",
   "execution_count": null,
   "id": "bf9b563d-6359-46ba-b920-0077a4548f88",
   "metadata": {
    "tags": []
   },
   "outputs": [],
   "source": [
    "client.list_jobs()"
   ]
  },
  {
   "cell_type": "code",
   "execution_count": null,
   "id": "26b42872-353d-494a-9a8f-8fb0d2b2f454",
   "metadata": {
    "tags": []
   },
   "outputs": [],
   "source": [
    "client.stop_job(submission_id)"
   ]
  },
  {
   "cell_type": "code",
   "execution_count": null,
   "id": "fe5e5b35",
   "metadata": {
    "tags": [],
    "vscode": {
     "languageId": "plaintext"
    }
   },
   "outputs": [],
   "source": [
    "cluster.down()"
   ]
  },
  {
   "cell_type": "code",
   "execution_count": null,
   "id": "0abcc16d-bdb6-40c6-ab15-8aaff97fa25c",
   "metadata": {},
   "outputs": [],
   "source": []
  }
 ],
 "metadata": {
  "kernelspec": {
   "display_name": "Python 3.11",
   "language": "python",
   "name": "python3"
  },
  "language_info": {
   "codemirror_mode": {
    "name": "ipython",
    "version": 3
   },
   "file_extension": ".py",
   "mimetype": "text/x-python",
   "name": "python",
   "nbconvert_exporter": "python",
   "pygments_lexer": "ipython3",
   "version": "3.11.4"
  }
 },
 "nbformat": 4,
 "nbformat_minor": 5
}
