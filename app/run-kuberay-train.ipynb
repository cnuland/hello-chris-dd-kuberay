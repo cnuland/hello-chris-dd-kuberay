{
 "cells": [
  {
   "cell_type": "code",
   "execution_count": null,
   "id": "7766ac1d-6f3c-450d-921b-089461e49796",
   "metadata": {
    "tags": []
   },
   "outputs": [],
   "source": [
    "pip install codeflare-sdk codeflare-torchx"
   ]
  },
  {
   "cell_type": "code",
   "execution_count": null,
   "id": "e14d75c5",
   "metadata": {
    "tags": [],
    "vscode": {
     "languageId": "plaintext"
    }
   },
   "outputs": [],
   "source": [
    "from codeflare_sdk import Cluster, ClusterConfiguration, TokenAuthentication, RayJobClient, Authentication\n",
    "import os\n",
    "import sys"
   ]
  },
  {
   "cell_type": "code",
   "execution_count": null,
   "id": "355054c3",
   "metadata": {
    "tags": [],
    "vscode": {
     "languageId": "plaintext"
    }
   },
   "outputs": [],
   "source": [
    "# Authenticate the CodeFlare SDK\n",
    "# On OpenShift, you can retrieve the token by running `oc whoami -t`,\n",
    "# and the server with `oc cluster-info`.\n",
    "auth = TokenAuthentication(\n",
    "    token = 'sha256~fXiyTta4BqDo6fpQf1VRAJ60LABQtz2p0blvpORnfuE',\n",
    "    server = 'https://api.rosa-wswzx.e1i3.p3.openshiftapps.com:443',\n",
    "    skip_tls=False\n",
    ")\n",
    "auth.login()"
   ]
  },
  {
   "cell_type": "code",
   "execution_count": null,
   "id": "7b65a6c1-5f87-473f-b345-fdf6ab84ff73",
   "metadata": {
    "tags": [],
    "vscode": {
     "languageId": "plaintext"
    }
   },
   "outputs": [],
   "source": [
    "# Configure the Ray cluster\n",
    "cluster = Cluster(ClusterConfiguration(\n",
    "    head_cpu_requests=4,\n",
    "    head_cpu_limits=8,\n",
    "    head_memory_requests=4,\n",
    "    head_memory_limits=8,\n",
    "    name='dd-rl',\n",
    "    namespace='hello-chris-ai-4',\n",
    "    num_workers=1,\n",
    "    worker_cpu_requests=4,\n",
    "    worker_cpu_limits=4,\n",
    "    worker_memory_requests=4,\n",
    "    worker_memory_limits=4,\n",
    "    # Use the following parameters with NVIDIA GPUs\n",
    "    image=\"quay.io/cnuland/dd-kuberay-worker:latest\",\n",
    "    head_extended_resource_requests={'nvidia.com/gpu':1},\n",
    "    worker_extended_resource_requests={'nvidia.com/gpu':1},\n",
    "    write_to_file=False,\n",
    "    local_queue=\"user-queue\"\n",
    "))"
   ]
  },
  {
   "cell_type": "code",
   "execution_count": null,
   "id": "2924cb7a",
   "metadata": {
    "tags": [],
    "vscode": {
     "languageId": "plaintext"
    }
   },
   "outputs": [],
   "source": [
    "# Create the Ray cluster\n",
    "cluster.up()"
   ]
  },
  {
   "cell_type": "markdown",
   "id": "cbbe4444",
   "metadata": {},
   "source": []
  },
  {
   "cell_type": "code",
   "execution_count": null,
   "id": "d70b254e",
   "metadata": {
    "tags": [],
    "vscode": {
     "languageId": "plaintext"
    }
   },
   "outputs": [],
   "source": [
    "cluster.wait_ready()"
   ]
  },
  {
   "cell_type": "code",
   "execution_count": null,
   "id": "b6270953",
   "metadata": {
    "tags": [],
    "vscode": {
     "languageId": "plaintext"
    }
   },
   "outputs": [],
   "source": [
    "cluster.details()"
   ]
  },
  {
   "cell_type": "code",
   "execution_count": null,
   "id": "bf06d743-605b-40ce-8f38-085e9014c1db",
   "metadata": {
    "tags": []
   },
   "outputs": [],
   "source": [
    "clusterDetails = cluster.details()"
   ]
  },
  {
   "cell_type": "code",
   "execution_count": 85,
   "id": "cf29b6d6",
   "metadata": {
    "tags": [],
    "vscode": {
     "languageId": "plaintext"
    }
   },
   "outputs": [
    {
     "data": {
      "text/html": [
       "<pre style=\"white-space:pre;overflow-x:auto;line-height:normal;font-family:Menlo,'DejaVu Sans Mono',consolas,'Courier New',monospace\"><span style=\"font-style: italic\">                     </span><span style=\"font-weight: bold; font-style: italic\"> 🚀 CodeFlare Cluster Status 🚀</span><span style=\"font-style: italic\">                     </span>\n",
       "<span style=\"font-weight: bold\">                                                                         </span>\n",
       " ╭─────────────────────────────────────────────────────────────────────╮ \n",
       " │   <span style=\"color: #c0c0c0; text-decoration-color: #c0c0c0; background-color: #008000; font-weight: bold\">Name</span>                                                              │ \n",
       " │   <span style=\"font-weight: bold; text-decoration: underline\">dd-rl</span>                                                 Active ✅   │ \n",
       " │                                                                     │ \n",
       " │   <span style=\"font-weight: bold\">URI:</span> ray://dd-rl-head-svc.hello-chris-ai-4.svc:10001              │ \n",
       " │                                                                     │ \n",
       " │   <a href=\"https://ray-dashboard-dd-rl-hello-chris-ai-4.apps.rosa.rosa-wswzx.e1i3.p3.openshiftapps.com\" target=\"_blank\"><span style=\"color: #000080; text-decoration-color: #000080; text-decoration: underline\">Dashboard🔗</span></a>                                                       │ \n",
       " │                                                                     │ \n",
       " ╰─────────────────────────────────────────────────────────────────────╯ \n",
       "</pre>\n"
      ],
      "text/plain": [
       "\u001b[3m                     \u001b[0m\u001b[1;3m 🚀 CodeFlare Cluster Status 🚀\u001b[0m\u001b[3m                     \u001b[0m\n",
       "\u001b[1m \u001b[0m\u001b[1m                                                                       \u001b[0m\u001b[1m \u001b[0m\n",
       " ╭─────────────────────────────────────────────────────────────────────╮ \n",
       " │   \u001b[1;37;42mName\u001b[0m                                                              │ \n",
       " │   \u001b[1;4mdd-rl\u001b[0m                                                 Active ✅   │ \n",
       " │                                                                     │ \n",
       " │   \u001b[1mURI:\u001b[0m ray://dd-rl-head-svc.hello-chris-ai-4.svc:10001              │ \n",
       " │                                                                     │ \n",
       " │   \u001b]8;id=762845;https://ray-dashboard-dd-rl-hello-chris-ai-4.apps.rosa.rosa-wswzx.e1i3.p3.openshiftapps.com\u001b\\\u001b[4;34mDashboard🔗\u001b[0m\u001b]8;;\u001b\\                                                       │ \n",
       " │                                                                     │ \n",
       " ╰─────────────────────────────────────────────────────────────────────╯ \n"
      ]
     },
     "metadata": {},
     "output_type": "display_data"
    },
    {
     "name": "stderr",
     "output_type": "stream",
     "text": [
      "2025-05-19 01:21:13,077\tINFO dashboard_sdk.py:338 -- Uploading package gcs://_ray_pkg_40193a7a9dd532ae.zip.\n",
      "2025-05-19 01:21:13,078\tINFO packaging.py:575 -- Creating a file package for local module './'.\n"
     ]
    },
    {
     "name": "stdout",
     "output_type": "stream",
     "text": [
      "Ray Dashboard URL: https://ray-dashboard-dd-rl-hello-chris-ai-4.apps.rosa.rosa-wswzx.e1i3.p3.openshiftapps.com\n",
      "Attempting to connect RayJobClient to: https://ray-dashboard-dd-rl-hello-chris-ai-4.apps.rosa.rosa-wswzx.e1i3.p3.openshiftapps.com\n",
      "Submitting Ray job...\n",
      "Job submitted successfully! Submission ID: raysubmit_g3tE1Gxeq7WnvxZT\n",
      "You can monitor the job status using client.get_job_status(submission_id)\n",
      "And logs using client.get_job_logs(submission_id)\n",
      "Job status: PENDING\n",
      "Error submitting job: name 'JobStatus' is not defined\n"
     ]
    }
   ],
   "source": [
    "# Create or connect to the Ray cluster\n",
    "cluster.status()\n",
    "print(f\"Ray Dashboard URL: {clusterDetails.dashboard}\")\n",
    "\n",
    "\n",
    "# Initialize RayJobClient\n",
    "# The address for RayJobClient should be the Ray head service, often exposed via a route or service URL.\n",
    "# CodeFlare SDK's `cluster.details()` might provide this, or `cluster.cluster_uri()` for internal access.\n",
    "# For external access (like from your notebook to submit job), you might need the Ray dashboard or a client service URL.\n",
    "# Let's assume client can connect to where jobs are submitted (usually Ray head/dashboard)\n",
    "# If your notebook runs outside the OpenShift cluster, you might need an external route to Ray head.\n",
    "# For simplicity, using cluster_uri() which is often for internal connections; adapt if needed.\n",
    "# A common pattern is to use the dashboard URL for the RayJobClient if it's accessible.\n",
    "try:\n",
    "    # Attempt connection to Ray head, may need adjustment based on network setup\n",
    "    # For jobs, it's often `address=\"ray://<head_service_host>:<port>\"`\n",
    "    # If dashboard_url is http://...:8265, client address is often the same host but port 10001 for ray client.\n",
    "    # For KubeRay, the service for Ray client is often 'raycluster-kuberay-head-svc'.\n",
    "    # The dashboard_url() from codeflare might be what you need directly or with minor modification.\n",
    "    \n",
    "    # A common approach is to use the dashboard URL if it's correctly pointing to the Ray head service endpoint.\n",
    "    # However, RayJobClient expects a Ray Client server address (ray://) or HTTP proxy.\n",
    "    # If your 'cluster.dashboard_url()' provides an HTTP URL for the dashboard,\n",
    "    # Ray Client can connect via HTTP Proxy if enabled (Ray >= 1.13).\n",
    "    # ray_client_address = \"http://\" + cluster.dashboard_url().split(\"://\")[1] # Simplified, assumes standard port or proxy setup\n",
    "    \n",
    "    # It's safer to get the specific client connection string if available.\n",
    "    # Let's assume Codeflare SDK handles this abstraction or you can derive it.\n",
    "    # If running locally and port-forwarding Ray head's client port (default 10001):\n",
    "    # client_address = \"ray://localhost:10001\"\n",
    "    # When submitting from the environment that can reach the Ray head:\n",
    "    #client_address = clusterDetails.dashboard # Check if this works directly or needs adjustment for RayJobClient\n",
    "                                         # It may need to be like \"http://<host>:<dashboard_port>\"\n",
    "    client_address = clusterDetails.dashboard\n",
    "    print(f\"Attempting to connect RayJobClient to: {client_address}\")\n",
    "    client = cluster.job_client\n",
    "\n",
    "\n",
    "except Exception as e:\n",
    "    print(f\"Error initializing RayJobClient: {e}\")\n",
    "    print(\"Please ensure the Ray client server is accessible from where you are running this notebook.\")\n",
    "    print(\"You might need to set up port-forwarding or use an external route to the Ray head service.\")\n",
    "    client = None # Ensure client is None if connection fails\n",
    "\n",
    "    \n",
    "if client:\n",
    "    print(\"Submitting Ray job...\")\n",
    "\n",
    "    try:\n",
    "        submission_id = client.submit_job(\n",
    "            entrypoint=\"python run-ray-dd.py\",\n",
    "            runtime_env={\n",
    "                \"env_vars\": {\n",
    "                    'S3_ACCESS_KEY_ID': \"minio\",\n",
    "                    'S3_SECRET_ACCESS_KEY': \"minio123\",\n",
    "                    'S3_REGION_NAME': \"region\",\n",
    "                    'S3_ENDPOINT_URL': \"https://minio-s3-minio.apps.rosa.rosa-wswzx.e1i3.p3.openshiftapps.com\",\n",
    "                     'S3_BUCKET_NAME': \"videos\",\n",
    "\n",
    "                },\n",
    "            \n",
    "                'working_dir': './',\n",
    "                'pip': [\"boto3\"],\n",
    "                \"excludes\": [\"*.sh\", \"*.ipynb\", \"*.md\"],\n",
    "            }\n",
    "        )\n",
    "        print(f\"Job submitted successfully! Submission ID: {submission_id}\")\n",
    "        print(\"You can monitor the job status using client.get_job_status(submission_id)\")\n",
    "        print(\"And logs using client.get_job_logs(submission_id)\")\n",
    "\n",
    "        # Example: Poll for job status\n",
    "        # import time\n",
    "        while True:\n",
    "            status = client.get_job_status(submission_id)\n",
    "            print(f\"Job status: {status}\")\n",
    "            if status in [JobStatus.SUCCEEDED, JobStatus.FAILED, JobStatus.STOPPED]:\n",
    "                break\n",
    "            time.sleep(5)\n",
    "            print(f\"Final job logs:\\n{client.get_job_logs(submission_id)}\")\n",
    "\n",
    "    except Exception as e:\n",
    "        print(f\"Error submitting job: {e}\")\n",
    "else:\n",
    "    print(\"RayJobClient not initialized. Cannot submit job.\")"
   ]
  },
  {
   "cell_type": "code",
   "execution_count": 77,
   "id": "bf9b563d-6359-46ba-b920-0077a4548f88",
   "metadata": {
    "tags": []
   },
   "outputs": [
    {
     "data": {
      "text/plain": [
       "[JobDetails(type=<JobType.SUBMISSION: 'SUBMISSION'>, job_id=None, submission_id='raysubmit_T9SZHZhkJJvDgUU1', driver_info=None, status=<JobStatus.FAILED: 'FAILED'>, entrypoint='python run-ray-dd.py', message='Job entrypoint command failed with exit code 1, last available logs (truncated to 20,000 chars):\\n2025-05-19 00:01:14,285\\tINFO job_manager.py:531 -- Runtime env is setting up.\\nUserWarning: Using SDL2 binaries from pysdl2-dll 2.28.0\\nTraceback (most recent call last):\\n  File \"/tmp/ray/session_2025-05-18_23-18-16_708233_1/runtime_resources/working_dir_files/_ray_pkg_0794a8e8021a23da/run-ray-dd.py\", line 15, in <module>\\n    from ddenv import DDEnv # Assuming this is the Gymnasium 1.0.0 compatible version\\n    ^^^^^^^^^^^^^^^^^^^^^^^\\n  File \"/tmp/ray/session_2025-05-18_23-18-16_708233_1/runtime_resources/working_dir_files/_ray_pkg_0794a8e8021a23da/ddenv.py\", line 17, in <module>\\n    import boto3 # For S3 interaction\\n    ^^^^^^^^^^^^\\nModuleNotFoundError: No module named \\'boto3\\'\\n', error_type=None, start_time=1747612874283, end_time=1747612881123, metadata={}, runtime_env={'working_dir': 'gcs://_ray_pkg_0794a8e8021a23da.zip', 'excludes': ['*.sh', '*.ipynb', '*.md']}, driver_agent_http_address='http://10.131.6.91:52365', driver_node_id='059c19ef6c88ef2a1a48d21b1e1643bb7c500c5eeba68a9a890b77b2', driver_exit_code=1),\n",
       " JobDetails(type=<JobType.SUBMISSION: 'SUBMISSION'>, job_id='07000000', submission_id='raysubmit_hxJeKwUd2rCDGz4b', driver_info=DriverInfo(id='07000000', node_ip_address='10.131.6.91', pid='166451'), status=<JobStatus.STOPPED: 'STOPPED'>, entrypoint='python run-ray-dd.py', message='Job was intentionally stopped.', error_type=None, start_time=1747613935672, end_time=1747615448636, metadata={}, runtime_env={'working_dir': 'gcs://_ray_pkg_bb69c7e70453ab7b.zip', 'excludes': ['*.sh', '*.ipynb', '*.md'], 'pip': {'packages': ['boto3'], 'pip_check': False}, '_ray_commit': 'daca7b2b1a950dc7f731e34e74c76ae383794ffe'}, driver_agent_http_address='http://10.131.6.91:52365', driver_node_id='059c19ef6c88ef2a1a48d21b1e1643bb7c500c5eeba68a9a890b77b2', driver_exit_code=None),\n",
       " JobDetails(type=<JobType.SUBMISSION: 'SUBMISSION'>, job_id='05000000', submission_id='raysubmit_YsiDA5cKyEHbJbNU', driver_info=DriverInfo(id='05000000', node_ip_address='10.131.6.91', pid='46522'), status=<JobStatus.STOPPED: 'STOPPED'>, entrypoint='python run-ray-dd.py', message='Job was intentionally stopped.', error_type=None, start_time=1747611617775, end_time=1747612833919, metadata={}, runtime_env={'working_dir': 'gcs://_ray_pkg_d192b577632de4cf.zip', 'excludes': ['*.sh', '*.ipynb', '*.md']}, driver_agent_http_address='http://10.131.6.91:52365', driver_node_id='059c19ef6c88ef2a1a48d21b1e1643bb7c500c5eeba68a9a890b77b2', driver_exit_code=None),\n",
       " JobDetails(type=<JobType.SUBMISSION: 'SUBMISSION'>, job_id='0b000000', submission_id='raysubmit_MpJqAQEmHEaALgNn', driver_info=DriverInfo(id='0b000000', node_ip_address='10.131.6.91', pid='257813'), status=<JobStatus.FAILED: 'FAILED'>, entrypoint='python run-ray-dd.py', message='Job entrypoint command failed with exit code 1, last available logs (truncated to 20,000 chars):\\n\\x1b[36m(RolloutWorker pid=27070, ip=10.131.8.95)\\x1b[0m            ^^^^^^^^^^^^^^^^^^^^^^^^^^^^^^^^^^^^\\x1b[32m [repeated 9x across cluster]\\x1b[0m\\n\\x1b[36m(RolloutWorker pid=27070, ip=10.131.8.95)\\x1b[0m            ^^^^^^^^^^^^^^^^^^^^^^^^^^^^^^^\\x1b[32m [repeated 10x across cluster]\\x1b[0m\\n\\x1b[36m(RolloutWorker pid=27070, ip=10.131.8.95)\\x1b[0m   File \"/tmp/ray/session_2025-05-18_23-18-16_708233_1/runtime_resources/working_dir_files/_ray_pkg_ce4eef8f1844bf3a/ddenv.py\", line 113, in __init__\\x1b[32m [repeated 19x across cluster]\\x1b[0m\\n\\x1b[36m(RolloutWorker pid=27070, ip=10.131.8.95)\\x1b[0m     self.env = env_creator(copy.deepcopy(self.env_context))\\x1b[32m [repeated 8x across cluster]\\x1b[0m\\n\\x1b[36m(RolloutWorker pid=27070, ip=10.131.8.95)\\x1b[0m                ^^^^^^^^^^^^^^^^^^^^^^^^^^^^^^^^^^^^^^^^^^^^\\x1b[32m [repeated 8x across cluster]\\x1b[0m\\n\\x1b[36m(RolloutWorker pid=27070, ip=10.131.8.95)\\x1b[0m   File \"/tmp/ray/session_2025-05-18_23-18-16_708233_1/runtime_resources/working_dir_files/_ray_pkg_ce4eef8f1844bf3a/run-ray-dd.py\", line 59, in <lambda>\\x1b[32m [repeated 8x across cluster]\\x1b[0m\\n\\x1b[36m(RolloutWorker pid=27070, ip=10.131.8.95)\\x1b[0m     register_env(\"dd_env\", lambda cfg_passed_by_rllib: DDEnv(cfg_passed_by_rllib))\\x1b[32m [repeated 8x across cluster]\\x1b[0m\\n\\x1b[36m(RolloutWorker pid=27070, ip=10.131.8.95)\\x1b[0m                                                        ^^^^^^^^^^^^^^^^^^^^^^^^^^\\x1b[32m [repeated 8x across cluster]\\x1b[0m\\n\\x1b[36m(RolloutWorker pid=27070, ip=10.131.8.95)\\x1b[0m           ^^^^^^^^^^^^^^\\x1b[32m [repeated 8x across cluster]\\x1b[0m\\n\\x1b[36m(RolloutWorker pid=27070, ip=10.131.8.95)\\x1b[0m NameError: name \\'s3_bucket_name\\' is not defined\\x1b[32m [repeated 5x across cluster]\\x1b[0m\\n', error_type=None, start_time=1747616649234, end_time=1747616671479, metadata={}, runtime_env={'working_dir': 'gcs://_ray_pkg_ce4eef8f1844bf3a.zip', 'excludes': ['*.sh', '*.ipynb', '*.md'], 'pip': {'packages': ['boto3'], 'pip_check': False}, 'env_vars': {'s3_access_key_id': 'minio', 'aws_secret_access_key': 'minio123', 'region_name': 'region', 's3_endpoint_url': 'https://minio-s3-minio.apps.rosa.rosa-wswzx.e1i3.p3.openshiftapps.com', 's3_bucket_name': 'videos'}, '_ray_commit': 'daca7b2b1a950dc7f731e34e74c76ae383794ffe'}, driver_agent_http_address='http://10.131.6.91:52365', driver_node_id='059c19ef6c88ef2a1a48d21b1e1643bb7c500c5eeba68a9a890b77b2', driver_exit_code=1),\n",
       " JobDetails(type=<JobType.SUBMISSION: 'SUBMISSION'>, job_id='08000000', submission_id='raysubmit_6sLkDYrMGmMcZHYg', driver_info=DriverInfo(id='08000000', node_ip_address='10.131.6.91', pid='236614'), status=<JobStatus.STOPPED: 'STOPPED'>, entrypoint='python run-ray-dd.py', message='Job was intentionally stopped.', error_type=None, start_time=1747615940780, end_time=1747616153657, metadata={}, runtime_env={'working_dir': 'gcs://_ray_pkg_1e6430fb3a0ab8a7.zip', 'excludes': ['*.sh', '*.ipynb', '*.md'], 'pip': {'packages': ['boto3'], 'pip_check': False}, 'env_vars': {'s3_access_key_id': 'minio', 'aws_secret_access_key': 'minio123', 'region_name': 'region', 's3_endpoint_url': 'https://minio-s3-minio.apps.rosa.rosa-wswzx.e1i3.p3.openshiftapps.com'}, '_ray_commit': 'daca7b2b1a950dc7f731e34e74c76ae383794ffe'}, driver_agent_http_address='http://10.131.6.91:52365', driver_node_id='059c19ef6c88ef2a1a48d21b1e1643bb7c500c5eeba68a9a890b77b2', driver_exit_code=None),\n",
       " JobDetails(type=<JobType.SUBMISSION: 'SUBMISSION'>, job_id='06000000', submission_id='raysubmit_nutZURZHVZuXbRVk', driver_info=DriverInfo(id='06000000', node_ip_address='10.131.6.91', pid='139173'), status=<JobStatus.STOPPED: 'STOPPED'>, entrypoint='python run-ray-dd.py', message='Job was intentionally stopped.', error_type=None, start_time=1747613185065, end_time=1747613930517, metadata={}, runtime_env={'working_dir': 'gcs://_ray_pkg_0794a8e8021a23da.zip', 'excludes': ['*.sh', '*.ipynb', '*.md'], 'pip': {'packages': ['boto3'], 'pip_check': False}, '_ray_commit': 'daca7b2b1a950dc7f731e34e74c76ae383794ffe'}, driver_agent_http_address='http://10.131.6.91:52365', driver_node_id='059c19ef6c88ef2a1a48d21b1e1643bb7c500c5eeba68a9a890b77b2', driver_exit_code=None),\n",
       " JobDetails(type=<JobType.SUBMISSION: 'SUBMISSION'>, job_id='09000000', submission_id='raysubmit_M6QjaXGsqdYVvBWY', driver_info=DriverInfo(id='09000000', node_ip_address='10.131.6.91', pid='246174'), status=<JobStatus.STOPPED: 'STOPPED'>, entrypoint='python run-ray-dd.py', message='Job was intentionally stopped.', error_type=None, start_time=1747616172881, end_time=1747616282257, metadata={}, runtime_env={'working_dir': 'gcs://_ray_pkg_1e6430fb3a0ab8a7.zip', 'excludes': ['*.sh', '*.ipynb', '*.md'], 'pip': {'packages': ['boto3'], 'pip_check': False}, 'env_vars': {'s3_access_key_id': 'minio', 'aws_secret_access_key': 'minio123', 'region_name': 'region', 's3_endpoint_url': 'https://minio-s3-minio.apps.rosa.rosa-wswzx.e1i3.p3.openshiftapps.com', 's3_bucket_name': 'videos'}, '_ray_commit': 'daca7b2b1a950dc7f731e34e74c76ae383794ffe'}, driver_agent_http_address='http://10.131.6.91:52365', driver_node_id='059c19ef6c88ef2a1a48d21b1e1643bb7c500c5eeba68a9a890b77b2', driver_exit_code=None),\n",
       " JobDetails(type=<JobType.SUBMISSION: 'SUBMISSION'>, job_id=None, submission_id='raysubmit_XJXrvi5E9pd5pDDa', driver_info=None, status=<JobStatus.FAILED: 'FAILED'>, entrypoint='python run-ray-dd.py', message='Unexpected error occurred: Task was killed due to the node running low on memory.\\nMemory on the node (IP: 10.131.6.91, ID: 059c19ef6c88ef2a1a48d21b1e1643bb7c500c5eeba68a9a890b77b2) where the task (actor ID: 75c7aec02902a446e7a1c46d02000000, name=_ray_internal_job_actor_raysubmit_XJXrvi5E9pd5pDDa:JobSupervisor.__init__, pid=91597, memory used=0.08GB) was running was 7.12GB / 7.45GB (0.955265), which exceeds the memory usage threshold of 0.95. Ray killed this worker (ID: 21325d8d3926a58dcff1a535bd2a8dc6b7fc076fba0c01f0c6d56988) because it was the most recently scheduled task; to see more information about memory usage on this node, use `ray logs raylet.out -ip 10.131.6.91`. To see the logs of the worker, use `ray logs worker-21325d8d3926a58dcff1a535bd2a8dc6b7fc076fba0c01f0c6d56988*out -ip 10.131.6.91. Top 10 memory users:\\nPID\\tMEM(GB)\\tCOMMAND\\n46691\\t3.45\\tray::PPO.train\\n166\\t0.75\\t/opt/app-root/bin/python3.11 /opt/app-root/lib64/python3.11/site-packages/ray/dashboard/dashboard.py...\\n329\\t0.61\\t/opt/app-root/lib64/python3.11/site-packages/ray/core/src/ray/raylet/raylet --raylet_socket_name=/tm...\\n73\\t0.47\\t/opt/app-root/lib64/python3.11/site-packages/ray/core/src/ray/gcs/gcs_server --log_dir=/tmp/ray/sess...\\n46522\\t0.41\\tpython run-ray-dd.py\\n91695\\t0.30\\tpython run-ray-dd.py\\n165\\t0.25\\t/opt/app-root/bin/python3.11 -m ray.util.client.server --address=10.131.6.91:6379 --host=0.0.0.0 --p...\\n164\\t0.18\\t/opt/app-root/bin/python3.11 -u /opt/app-root/lib64/python3.11/site-packages/ray/autoscaler/_private...\\n330\\t0.16\\t/opt/app-root/bin/python3.11 -u /opt/app-root/lib64/python3.11/site-packages/ray/_private/log_monito...\\n412\\t0.13\\t/opt/app-root/bin/python3.11 -u /opt/app-root/lib64/python3.11/site-packages/ray/dashboard/agent.py ...\\nRefer to the documentation on how to address the out of memory issue: https://docs.ray.io/en/latest/ray-core/scheduling/ray-oom-prevention.html. Consider provisioning more memory on this node or reducing task parallelism by requesting more CPUs per task. Set max_restarts and max_task_retries to enable retry when the task crashes due to OOM. To adjust the kill threshold, set the environment variable `RAY_memory_usage_threshold` when starting Ray. To disable worker killing, set the environment variable `RAY_memory_monitor_refresh_ms` to zero.', error_type=None, start_time=1747612232521, end_time=1747612237550, metadata={}, runtime_env={'working_dir': 'gcs://_ray_pkg_0794a8e8021a23da.zip', 'excludes': ['*.sh', '*.ipynb', '*.md']}, driver_agent_http_address='http://10.131.6.91:52365', driver_node_id='059c19ef6c88ef2a1a48d21b1e1643bb7c500c5eeba68a9a890b77b2', driver_exit_code=None),\n",
       " JobDetails(type=<JobType.SUBMISSION: 'SUBMISSION'>, job_id=None, submission_id='raysubmit_vuA25rQ6MfCyBp6k', driver_info=None, status=<JobStatus.FAILED: 'FAILED'>, entrypoint='python run-ray-dd.py', message='runtime_env setup failed: Failed to set up runtime environment.\\nCould not create the actor because its associated runtime env failed to be created.\\nTraceback (most recent call last):\\n  File \"/opt/app-root/lib64/python3.11/site-packages/ray/_private/runtime_env/agent/runtime_env_agent.py\", line 391, in _create_runtime_env_with_retry\\n    runtime_env_context = await asyncio.wait_for(\\n                          ^^^^^^^^^^^^^^^^^^^^^^^\\n  File \"/usr/lib64/python3.11/asyncio/tasks.py\", line 489, in wait_for\\n    return fut.result()\\n           ^^^^^^^^^^^^\\n  File \"/opt/app-root/lib64/python3.11/site-packages/ray/_private/runtime_env/agent/runtime_env_agent.py\", line 357, in _setup_runtime_env\\n    await create_for_plugin_if_needed(\\n  File \"/opt/app-root/lib64/python3.11/site-packages/ray/_private/runtime_env/plugin.py\", line 254, in create_for_plugin_if_needed\\n    size_bytes = await plugin.create(uri, runtime_env, context, logger=logger)\\n                 ^^^^^^^^^^^^^^^^^^^^^^^^^^^^^^^^^^^^^^^^^^^^^^^^^^^^^^^^^^^^^\\n  File \"/opt/app-root/lib64/python3.11/site-packages/ray/_private/runtime_env/pip.py\", line 309, in create\\n    pip_dir_bytes = await task\\n                    ^^^^^^^^^^\\n  File \"/opt/app-root/lib64/python3.11/site-packages/ray/_private/runtime_env/pip.py\", line 289, in _create_for_hash\\n    await PipProcessor(\\n  File \"/opt/app-root/lib64/python3.11/site-packages/ray/_private/runtime_env/pip.py\", line 191, in _run\\n    await self._install_pip_packages(\\n  File \"/opt/app-root/lib64/python3.11/site-packages/ray/_private/runtime_env/pip.py\", line 167, in _install_pip_packages\\n    await check_output_cmd(pip_install_cmd, logger=logger, cwd=cwd, env=pip_env)\\n  File \"/opt/app-root/lib64/python3.11/site-packages/ray/_private/runtime_env/utils.py\", line 105, in check_output_cmd\\n    raise SubprocessCalledProcessError(\\nray._private.runtime_env.utils.SubprocessCalledProcessError: Run cmd[9] failed with the following details.\\nCommand \\'[\\'/tmp/ray/session_2025-05-18_23-18-16_708233_1/runtime_resources/pip/44933c33d58d6a555d41d9ab1d967bfb6cd7bbff/virtualenv/bin/python\\', \\'-m\\', \\'pip\\', \\'install\\', \\'--disable-pip-version-check\\', \\'--no-cache-dir\\', \\'-r\\', \\'/tmp/ray/session_2025-05-18_23-18-16_708233_1/runtime_resources/pip/44933c33d58d6a555d41d9ab1d967bfb6cd7bbff/ray_runtime_env_internal_pip_requirements.txt\\']\\' returned non-zero exit status 1.\\nLast 50 lines of stdout:\\n    ERROR: Invalid requirement: \\'boto3==*\\': Expected end or semicolon (after name and no valid version specifier)\\n        boto3==*\\n             ^ (from line 1 of /tmp/ray/session_2025-05-18_23-18-16_708233_1/runtime_resources/pip/44933c33d58d6a555d41d9ab1d967bfb6cd7bbff/ray_runtime_env_internal_pip_requirements.txt)\\n', error_type=None, start_time=1747612959442, end_time=1747613093313, metadata={}, runtime_env={'working_dir': 'gcs://_ray_pkg_0794a8e8021a23da.zip', 'excludes': ['*.sh', '*.ipynb', '*.md'], 'pip': {'packages': ['boto3==*'], 'pip_check': False}, '_ray_commit': 'daca7b2b1a950dc7f731e34e74c76ae383794ffe'}, driver_agent_http_address=None, driver_node_id=None, driver_exit_code=None),\n",
       " JobDetails(type=<JobType.SUBMISSION: 'SUBMISSION'>, job_id='04000000', submission_id='raysubmit_8MRK3EpB8dcrXJk1', driver_info=DriverInfo(id='04000000', node_ip_address='10.131.6.91', pid='3970'), status=<JobStatus.STOPPED: 'STOPPED'>, entrypoint='python run-ray-dd.py', message='Job was intentionally stopped.', error_type=None, start_time=1747610906705, end_time=1747611600969, metadata={}, runtime_env={'working_dir': 'gcs://_ray_pkg_ca23fb458e7accbc.zip', 'excludes': ['*.sh', '*.ipynb', '*.md']}, driver_agent_http_address='http://10.131.6.91:52365', driver_node_id='059c19ef6c88ef2a1a48d21b1e1643bb7c500c5eeba68a9a890b77b2', driver_exit_code=None),\n",
       " JobDetails(type=<JobType.SUBMISSION: 'SUBMISSION'>, job_id='03000000', submission_id='raysubmit_Xa6GMaZ1mgxEmMGJ', driver_info=DriverInfo(id='03000000', node_ip_address='10.131.6.91', pid='1694'), status=<JobStatus.FAILED: 'FAILED'>, entrypoint='python run-ray-dd.py', message='Job entrypoint command failed with exit code 1, last available logs (truncated to 20,000 chars):\\n  File \"/opt/app-root/lib64/python3.11/site-packages/ray/rllib/algorithms/ppo/ppo.py\", line 284, in validate\\n    super().validate()\\n  File \"/opt/app-root/lib64/python3.11/site-packages/ray/rllib/algorithms/algorithm_config.py\", line 920, in validate\\n    self._validate_new_api_stack_settings()\\n  File \"/opt/app-root/lib64/python3.11/site-packages/ray/rllib/algorithms/algorithm_config.py\", line 4773, in _validate_new_api_stack_settings\\n    self._value_error(\\n  File \"/opt/app-root/lib64/python3.11/site-packages/ray/rllib/algorithms/algorithm_config.py\", line 4468, in _value_error\\n    raise ValueError(msg)\\nValueError: Cannot use `custom_model` option with the new API stack (RLModule and Learner APIs)! `custom_model` is part of the ModelV2 API and Policy API, which are not compatible with the new API stack. You can either deactivate the new stack via `config.api_stack( enable_rl_module_and_learner=False)`,or use the new stack (incl. RLModule API) and implement your custom model as an RLModule.\\nTo suppress all validation errors, set `config.experimental(_validate_config=False)` at your own risk.\\n', error_type=None, start_time=1747610418751, end_time=1747610427711, metadata={}, runtime_env={'working_dir': 'gcs://_ray_pkg_e9412ab1448d3efe.zip', 'excludes': ['*.sh', '*.ipynb', '*.md']}, driver_agent_http_address='http://10.131.6.91:52365', driver_node_id='059c19ef6c88ef2a1a48d21b1e1643bb7c500c5eeba68a9a890b77b2', driver_exit_code=1),\n",
       " JobDetails(type=<JobType.SUBMISSION: 'SUBMISSION'>, job_id='0a000000', submission_id='raysubmit_7VqGVXJKqVkhhaqD', driver_info=DriverInfo(id='0a000000', node_ip_address='10.131.6.91', pid='250444'), status=<JobStatus.FAILED: 'FAILED'>, entrypoint='python run-ray-dd.py', message='Job entrypoint command failed with exit code 1, last available logs (truncated to 20,000 chars):\\n166\\t0.76\\t/opt/app-root/bin/python3.11 /opt/app-root/lib64/python3.11/site-packages/ray/dashboard/dashboard.py...\\n329\\t0.62\\t/opt/app-root/lib64/python3.11/site-packages/ray/core/src/ray/raylet/raylet --raylet_socket_name=/tm...\\n73\\t0.46\\t/opt/app-root/lib64/python3.11/site-packages/ray/core/src/ray/gcs/gcs_server --log_dir=/tmp/ray/sess...\\n250444\\t0.42\\tpython run-ray-dd.py\\n165\\t0.26\\t/opt/app-root/bin/python3.11 -m ray.util.client.server --address=10.131.6.91:6379 --host=0.0.0.0 --p...\\n164\\t0.18\\t/opt/app-root/bin/python3.11 -u /opt/app-root/lib64/python3.11/site-packages/ray/autoscaler/_private...\\n330\\t0.16\\t/opt/app-root/bin/python3.11 -u /opt/app-root/lib64/python3.11/site-packages/ray/_private/log_monito...\\n412\\t0.14\\t/opt/app-root/bin/python3.11 -u /opt/app-root/lib64/python3.11/site-packages/ray/dashboard/agent.py ...\\n1\\t0.13\\t/opt/app-root/bin/python3.11 /opt/app-root/bin/ray start --head --dashboard-host=0.0.0.0 --num-gpus=...\\nRefer to the documentation on how to address the out of memory issue: https://docs.ray.io/en/latest/ray-core/scheduling/ray-oom-prevention.html. Consider provisioning more memory on this node or reducing task parallelism by requesting more CPUs per task. Set max_restarts and max_task_retries to enable retry when the task crashes due to OOM. To adjust the kill threshold, set the environment variable `RAY_memory_usage_threshold` when starting Ray. To disable worker killing, set the environment variable `RAY_memory_monitor_refresh_ms` to zero.\\n', error_type=None, start_time=1747616282872, end_time=1747616422249, metadata={}, runtime_env={'working_dir': 'gcs://_ray_pkg_d6a5782a86f70389.zip', 'excludes': ['*.sh', '*.ipynb', '*.md'], 'pip': {'packages': ['boto3'], 'pip_check': False}, 'env_vars': {'s3_access_key_id': 'minio', 'aws_secret_access_key': 'minio123', 'region_name': 'region', 's3_endpoint_url': 'https://minio-s3-minio.apps.rosa.rosa-wswzx.e1i3.p3.openshiftapps.com', 's3_bucket_name': 'videos'}, '_ray_commit': 'daca7b2b1a950dc7f731e34e74c76ae383794ffe'}, driver_agent_http_address='http://10.131.6.91:52365', driver_node_id='059c19ef6c88ef2a1a48d21b1e1643bb7c500c5eeba68a9a890b77b2', driver_exit_code=1)]"
      ]
     },
     "execution_count": 77,
     "metadata": {},
     "output_type": "execute_result"
    }
   ],
   "source": [
    "client.list_jobs()"
   ]
  },
  {
   "cell_type": "code",
   "execution_count": 86,
   "id": "26b42872-353d-494a-9a8f-8fb0d2b2f454",
   "metadata": {
    "tags": []
   },
   "outputs": [
    {
     "data": {
      "text/plain": [
       "True"
      ]
     },
     "execution_count": 86,
     "metadata": {},
     "output_type": "execute_result"
    }
   ],
   "source": [
    "client.stop_job(submission_id)"
   ]
  },
  {
   "cell_type": "code",
   "execution_count": null,
   "id": "fe5e5b35",
   "metadata": {
    "tags": [],
    "vscode": {
     "languageId": "plaintext"
    }
   },
   "outputs": [],
   "source": [
    "cluster.down()"
   ]
  },
  {
   "cell_type": "code",
   "execution_count": null,
   "id": "0abcc16d-bdb6-40c6-ab15-8aaff97fa25c",
   "metadata": {},
   "outputs": [],
   "source": []
  }
 ],
 "metadata": {
  "kernelspec": {
   "display_name": "Python 3.11",
   "language": "python",
   "name": "python3"
  },
  "language_info": {
   "codemirror_mode": {
    "name": "ipython",
    "version": 3
   },
   "file_extension": ".py",
   "mimetype": "text/x-python",
   "name": "python",
   "nbconvert_exporter": "python",
   "pygments_lexer": "ipython3",
   "version": "3.11.4"
  }
 },
 "nbformat": 4,
 "nbformat_minor": 5
}
