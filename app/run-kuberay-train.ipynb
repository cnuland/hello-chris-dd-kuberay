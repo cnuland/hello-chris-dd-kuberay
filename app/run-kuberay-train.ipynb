{
 "cells": [
  {
   "cell_type": "code",
   "execution_count": 1,
   "id": "7766ac1d-6f3c-450d-921b-089461e49796",
   "metadata": {
    "tags": []
   },
   "outputs": [
    {
     "name": "stdout",
     "output_type": "stream",
     "text": [
      "Collecting codeflare-sdk\n",
      "  Obtaining dependency information for codeflare-sdk from https://files.pythonhosted.org/packages/61/9f/13bb414f71416b3d893d92bb100ed0f8bf1af5bd83e1e2824893ff56ce60/codeflare_sdk-0.28.1-py3-none-any.whl.metadata\n",
      "  Downloading codeflare_sdk-0.28.1-py3-none-any.whl.metadata (3.3 kB)\n",
      "Collecting cryptography==43.0.3 (from codeflare-sdk)\n",
      "  Obtaining dependency information for cryptography==43.0.3 from https://files.pythonhosted.org/packages/ac/25/e715fa0bc24ac2114ed69da33adf451a38abb6f3f24ec207908112e9ba53/cryptography-43.0.3-cp39-abi3-manylinux_2_28_x86_64.whl.metadata\n",
      "  Downloading cryptography-43.0.3-cp39-abi3-manylinux_2_28_x86_64.whl.metadata (5.4 kB)\n",
      "Requirement already satisfied: executing==1.2.0 in /opt/app-root/lib64/python3.11/site-packages (from codeflare-sdk) (1.2.0)\n",
      "Collecting ipywidgets==8.1.2 (from codeflare-sdk)\n",
      "  Obtaining dependency information for ipywidgets==8.1.2 from https://files.pythonhosted.org/packages/70/1a/7edeedb1c089d63ccd8bd5c0612334774e90cf9337de9fe6c82d90081791/ipywidgets-8.1.2-py3-none-any.whl.metadata\n",
      "  Downloading ipywidgets-8.1.2-py3-none-any.whl.metadata (2.4 kB)\n",
      "Collecting kubernetes>=27.2.0 (from codeflare-sdk)\n",
      "  Obtaining dependency information for kubernetes>=27.2.0 from https://files.pythonhosted.org/packages/08/10/9f8af3e6f569685ce3af7faab51c8dd9d93b9c38eba339ca31c746119447/kubernetes-32.0.1-py2.py3-none-any.whl.metadata\n",
      "  Downloading kubernetes-32.0.1-py2.py3-none-any.whl.metadata (1.7 kB)\n",
      "Requirement already satisfied: openshift-client==1.0.18 in /opt/app-root/lib64/python3.11/site-packages (from codeflare-sdk) (1.0.18)\n",
      "Requirement already satisfied: pydantic<2 in /opt/app-root/lib64/python3.11/site-packages (from codeflare-sdk) (1.10.12)\n",
      "Collecting ray[data,default]==2.44.1 (from codeflare-sdk)\n",
      "  Obtaining dependency information for ray[data,default]==2.44.1 from https://files.pythonhosted.org/packages/ac/6e/263863a31505e8d209a984830b38bbfeec7217a390e1fe475648d6529e4b/ray-2.44.1-cp311-cp311-manylinux2014_x86_64.whl.metadata\n",
      "  Downloading ray-2.44.1-cp311-cp311-manylinux2014_x86_64.whl.metadata (19 kB)\n",
      "Requirement already satisfied: rich<14.0,>=12.5 in /opt/app-root/lib64/python3.11/site-packages (from codeflare-sdk) (12.6.0)\n",
      "Requirement already satisfied: cffi>=1.12 in /opt/app-root/lib64/python3.11/site-packages (from cryptography==43.0.3->codeflare-sdk) (1.15.1)\n",
      "Requirement already satisfied: comm>=0.1.3 in /opt/app-root/lib64/python3.11/site-packages (from ipywidgets==8.1.2->codeflare-sdk) (0.1.4)\n",
      "Requirement already satisfied: ipython>=6.1.0 in /opt/app-root/lib64/python3.11/site-packages (from ipywidgets==8.1.2->codeflare-sdk) (8.15.0)\n",
      "Requirement already satisfied: traitlets>=4.3.1 in /opt/app-root/lib64/python3.11/site-packages (from ipywidgets==8.1.2->codeflare-sdk) (5.10.0)\n",
      "Collecting widgetsnbextension~=4.0.10 (from ipywidgets==8.1.2->codeflare-sdk)\n",
      "  Obtaining dependency information for widgetsnbextension~=4.0.10 from https://files.pythonhosted.org/packages/ca/51/5447876806d1088a0f8f71e16542bf350918128d0a69437df26047c8e46f/widgetsnbextension-4.0.14-py3-none-any.whl.metadata\n",
      "  Downloading widgetsnbextension-4.0.14-py3-none-any.whl.metadata (1.6 kB)\n",
      "Collecting jupyterlab-widgets~=3.0.10 (from ipywidgets==8.1.2->codeflare-sdk)\n",
      "  Obtaining dependency information for jupyterlab-widgets~=3.0.10 from https://files.pythonhosted.org/packages/43/6a/ca128561b22b60bd5a0c4ea26649e68c8556b82bc70a0c396eebc977fe86/jupyterlab_widgets-3.0.15-py3-none-any.whl.metadata\n",
      "  Downloading jupyterlab_widgets-3.0.15-py3-none-any.whl.metadata (20 kB)\n",
      "Requirement already satisfied: six in /opt/app-root/lib64/python3.11/site-packages (from openshift-client==1.0.18->codeflare-sdk) (1.16.0)\n",
      "Requirement already satisfied: pyyaml in /opt/app-root/lib64/python3.11/site-packages (from openshift-client==1.0.18->codeflare-sdk) (6.0.1)\n",
      "Requirement already satisfied: paramiko in /opt/app-root/lib64/python3.11/site-packages (from openshift-client==1.0.18->codeflare-sdk) (3.3.1)\n",
      "Requirement already satisfied: click>=7.0 in /opt/app-root/lib64/python3.11/site-packages (from ray[data,default]==2.44.1->codeflare-sdk) (8.1.7)\n",
      "Requirement already satisfied: filelock in /opt/app-root/lib64/python3.11/site-packages (from ray[data,default]==2.44.1->codeflare-sdk) (3.12.4)\n",
      "Requirement already satisfied: jsonschema in /opt/app-root/lib64/python3.11/site-packages (from ray[data,default]==2.44.1->codeflare-sdk) (4.19.1)\n",
      "Requirement already satisfied: msgpack<2.0.0,>=1.0.0 in /opt/app-root/lib64/python3.11/site-packages (from ray[data,default]==2.44.1->codeflare-sdk) (1.0.6)\n",
      "Requirement already satisfied: packaging in /opt/app-root/lib64/python3.11/site-packages (from ray[data,default]==2.44.1->codeflare-sdk) (23.1)\n",
      "Requirement already satisfied: protobuf!=3.19.5,>=3.15.3 in /opt/app-root/lib64/python3.11/site-packages (from ray[data,default]==2.44.1->codeflare-sdk) (3.20.2)\n",
      "Requirement already satisfied: aiosignal in /opt/app-root/lib64/python3.11/site-packages (from ray[data,default]==2.44.1->codeflare-sdk) (1.3.1)\n",
      "Requirement already satisfied: frozenlist in /opt/app-root/lib64/python3.11/site-packages (from ray[data,default]==2.44.1->codeflare-sdk) (1.4.0)\n",
      "Requirement already satisfied: requests in /opt/app-root/lib64/python3.11/site-packages (from ray[data,default]==2.44.1->codeflare-sdk) (2.31.0)\n",
      "Requirement already satisfied: numpy>=1.20 in /opt/app-root/lib64/python3.11/site-packages (from ray[data,default]==2.44.1->codeflare-sdk) (1.24.4)\n",
      "Requirement already satisfied: pandas>=1.3 in /opt/app-root/lib64/python3.11/site-packages (from ray[data,default]==2.44.1->codeflare-sdk) (2.1.1)\n",
      "Collecting pyarrow>=9.0.0 (from ray[data,default]==2.44.1->codeflare-sdk)\n",
      "  Obtaining dependency information for pyarrow>=9.0.0 from https://files.pythonhosted.org/packages/46/1f/7f02009bc7fc8955c391defee5348f510e589a020e4b40ca05edcb847854/pyarrow-20.0.0-cp311-cp311-manylinux_2_28_x86_64.whl.metadata\n",
      "  Downloading pyarrow-20.0.0-cp311-cp311-manylinux_2_28_x86_64.whl.metadata (3.3 kB)\n",
      "Requirement already satisfied: fsspec in /opt/app-root/lib64/python3.11/site-packages (from ray[data,default]==2.44.1->codeflare-sdk) (2023.9.2)\n",
      "Requirement already satisfied: aiohttp>=3.7 in /opt/app-root/lib64/python3.11/site-packages (from ray[data,default]==2.44.1->codeflare-sdk) (3.8.5)\n",
      "Requirement already satisfied: aiohttp_cors in /opt/app-root/lib64/python3.11/site-packages (from ray[data,default]==2.44.1->codeflare-sdk) (0.7.0)\n",
      "Requirement already satisfied: colorful in /opt/app-root/lib64/python3.11/site-packages (from ray[data,default]==2.44.1->codeflare-sdk) (0.5.5)\n",
      "Requirement already satisfied: py-spy>=0.2.0 in /opt/app-root/lib64/python3.11/site-packages (from ray[data,default]==2.44.1->codeflare-sdk) (0.3.14)\n",
      "Requirement already satisfied: grpcio>=1.42.0 in /opt/app-root/lib64/python3.11/site-packages (from ray[data,default]==2.44.1->codeflare-sdk) (1.51.3)\n",
      "Requirement already satisfied: opencensus in /opt/app-root/lib64/python3.11/site-packages (from ray[data,default]==2.44.1->codeflare-sdk) (0.11.3)\n",
      "Requirement already satisfied: prometheus_client>=0.7.1 in /opt/app-root/lib64/python3.11/site-packages (from ray[data,default]==2.44.1->codeflare-sdk) (0.17.1)\n",
      "Requirement already satisfied: smart_open in /opt/app-root/lib64/python3.11/site-packages (from ray[data,default]==2.44.1->codeflare-sdk) (6.4.0)\n",
      "Requirement already satisfied: virtualenv!=20.21.1,>=20.0.24 in /opt/app-root/lib64/python3.11/site-packages (from ray[data,default]==2.44.1->codeflare-sdk) (20.21.0)\n",
      "Requirement already satisfied: certifi>=14.05.14 in /opt/app-root/lib64/python3.11/site-packages (from kubernetes>=27.2.0->codeflare-sdk) (2023.7.22)\n",
      "Requirement already satisfied: python-dateutil>=2.5.3 in /opt/app-root/lib64/python3.11/site-packages (from kubernetes>=27.2.0->codeflare-sdk) (2.8.2)\n",
      "Requirement already satisfied: google-auth>=1.0.1 in /opt/app-root/lib64/python3.11/site-packages (from kubernetes>=27.2.0->codeflare-sdk) (2.23.0)\n",
      "Requirement already satisfied: websocket-client!=0.40.0,!=0.41.*,!=0.42.*,>=0.32.0 in /opt/app-root/lib64/python3.11/site-packages (from kubernetes>=27.2.0->codeflare-sdk) (1.6.3)\n",
      "Requirement already satisfied: requests-oauthlib in /opt/app-root/lib64/python3.11/site-packages (from kubernetes>=27.2.0->codeflare-sdk) (1.3.1)\n",
      "Requirement already satisfied: oauthlib>=3.2.2 in /opt/app-root/lib64/python3.11/site-packages (from kubernetes>=27.2.0->codeflare-sdk) (3.2.2)\n",
      "Requirement already satisfied: urllib3>=1.24.2 in /opt/app-root/lib64/python3.11/site-packages (from kubernetes>=27.2.0->codeflare-sdk) (1.26.16)\n",
      "Collecting durationpy>=0.7 (from kubernetes>=27.2.0->codeflare-sdk)\n",
      "  Obtaining dependency information for durationpy>=0.7 from https://files.pythonhosted.org/packages/4c/a3/ac312faeceffd2d8f86bc6dcb5c401188ba5a01bc88e69bed97578a0dfcd/durationpy-0.9-py3-none-any.whl.metadata\n",
      "  Downloading durationpy-0.9-py3-none-any.whl.metadata (338 bytes)\n",
      "Requirement already satisfied: typing-extensions>=4.2.0 in /opt/app-root/lib64/python3.11/site-packages (from pydantic<2->codeflare-sdk) (4.8.0)\n",
      "Requirement already satisfied: commonmark<0.10.0,>=0.9.0 in /opt/app-root/lib64/python3.11/site-packages (from rich<14.0,>=12.5->codeflare-sdk) (0.9.1)\n",
      "Requirement already satisfied: pygments<3.0.0,>=2.6.0 in /opt/app-root/lib64/python3.11/site-packages (from rich<14.0,>=12.5->codeflare-sdk) (2.16.1)\n",
      "Requirement already satisfied: attrs>=17.3.0 in /opt/app-root/lib64/python3.11/site-packages (from aiohttp>=3.7->ray[data,default]==2.44.1->codeflare-sdk) (23.1.0)\n",
      "Requirement already satisfied: charset-normalizer<4.0,>=2.0 in /opt/app-root/lib64/python3.11/site-packages (from aiohttp>=3.7->ray[data,default]==2.44.1->codeflare-sdk) (3.2.0)\n",
      "Requirement already satisfied: multidict<7.0,>=4.5 in /opt/app-root/lib64/python3.11/site-packages (from aiohttp>=3.7->ray[data,default]==2.44.1->codeflare-sdk) (6.0.4)\n",
      "Requirement already satisfied: async-timeout<5.0,>=4.0.0a3 in /opt/app-root/lib64/python3.11/site-packages (from aiohttp>=3.7->ray[data,default]==2.44.1->codeflare-sdk) (4.0.3)\n",
      "Requirement already satisfied: yarl<2.0,>=1.0 in /opt/app-root/lib64/python3.11/site-packages (from aiohttp>=3.7->ray[data,default]==2.44.1->codeflare-sdk) (1.9.2)\n",
      "Requirement already satisfied: pycparser in /opt/app-root/lib64/python3.11/site-packages (from cffi>=1.12->cryptography==43.0.3->codeflare-sdk) (2.21)\n",
      "Requirement already satisfied: cachetools<6.0,>=2.0.0 in /opt/app-root/lib64/python3.11/site-packages (from google-auth>=1.0.1->kubernetes>=27.2.0->codeflare-sdk) (5.3.1)\n",
      "Requirement already satisfied: pyasn1-modules>=0.2.1 in /opt/app-root/lib64/python3.11/site-packages (from google-auth>=1.0.1->kubernetes>=27.2.0->codeflare-sdk) (0.3.0)\n",
      "Requirement already satisfied: rsa<5,>=3.1.4 in /opt/app-root/lib64/python3.11/site-packages (from google-auth>=1.0.1->kubernetes>=27.2.0->codeflare-sdk) (4.9)\n",
      "Requirement already satisfied: backcall in /opt/app-root/lib64/python3.11/site-packages (from ipython>=6.1.0->ipywidgets==8.1.2->codeflare-sdk) (0.2.0)\n",
      "Requirement already satisfied: decorator in /opt/app-root/lib64/python3.11/site-packages (from ipython>=6.1.0->ipywidgets==8.1.2->codeflare-sdk) (5.1.1)\n",
      "Requirement already satisfied: jedi>=0.16 in /opt/app-root/lib64/python3.11/site-packages (from ipython>=6.1.0->ipywidgets==8.1.2->codeflare-sdk) (0.18.2)\n",
      "Requirement already satisfied: matplotlib-inline in /opt/app-root/lib64/python3.11/site-packages (from ipython>=6.1.0->ipywidgets==8.1.2->codeflare-sdk) (0.1.6)\n",
      "Requirement already satisfied: pickleshare in /opt/app-root/lib64/python3.11/site-packages (from ipython>=6.1.0->ipywidgets==8.1.2->codeflare-sdk) (0.7.5)\n",
      "Requirement already satisfied: prompt-toolkit!=3.0.37,<3.1.0,>=3.0.30 in /opt/app-root/lib64/python3.11/site-packages (from ipython>=6.1.0->ipywidgets==8.1.2->codeflare-sdk) (3.0.39)\n",
      "Requirement already satisfied: stack-data in /opt/app-root/lib64/python3.11/site-packages (from ipython>=6.1.0->ipywidgets==8.1.2->codeflare-sdk) (0.6.2)\n",
      "Requirement already satisfied: pexpect>4.3 in /opt/app-root/lib64/python3.11/site-packages (from ipython>=6.1.0->ipywidgets==8.1.2->codeflare-sdk) (4.8.0)\n",
      "Requirement already satisfied: pytz>=2020.1 in /opt/app-root/lib64/python3.11/site-packages (from pandas>=1.3->ray[data,default]==2.44.1->codeflare-sdk) (2023.3.post1)\n",
      "Requirement already satisfied: tzdata>=2022.1 in /opt/app-root/lib64/python3.11/site-packages (from pandas>=1.3->ray[data,default]==2.44.1->codeflare-sdk) (2023.3)\n",
      "Requirement already satisfied: distlib<1,>=0.3.6 in /opt/app-root/lib64/python3.11/site-packages (from virtualenv!=20.21.1,>=20.0.24->ray[data,default]==2.44.1->codeflare-sdk) (0.3.7)\n",
      "Requirement already satisfied: platformdirs<4,>=2.4 in /opt/app-root/lib64/python3.11/site-packages (from virtualenv!=20.21.1,>=20.0.24->ray[data,default]==2.44.1->codeflare-sdk) (3.10.0)\n",
      "Requirement already satisfied: jsonschema-specifications>=2023.03.6 in /opt/app-root/lib64/python3.11/site-packages (from jsonschema->ray[data,default]==2.44.1->codeflare-sdk) (2023.7.1)\n",
      "Requirement already satisfied: referencing>=0.28.4 in /opt/app-root/lib64/python3.11/site-packages (from jsonschema->ray[data,default]==2.44.1->codeflare-sdk) (0.30.2)\n",
      "Requirement already satisfied: rpds-py>=0.7.1 in /opt/app-root/lib64/python3.11/site-packages (from jsonschema->ray[data,default]==2.44.1->codeflare-sdk) (0.10.3)\n",
      "Requirement already satisfied: opencensus-context>=0.1.3 in /opt/app-root/lib64/python3.11/site-packages (from opencensus->ray[data,default]==2.44.1->codeflare-sdk) (0.1.3)\n",
      "Requirement already satisfied: google-api-core<3.0.0,>=1.0.0 in /opt/app-root/lib64/python3.11/site-packages (from opencensus->ray[data,default]==2.44.1->codeflare-sdk) (2.12.0)\n",
      "Requirement already satisfied: bcrypt>=3.2 in /opt/app-root/lib64/python3.11/site-packages (from paramiko->openshift-client==1.0.18->codeflare-sdk) (4.0.1)\n",
      "Requirement already satisfied: pynacl>=1.5 in /opt/app-root/lib64/python3.11/site-packages (from paramiko->openshift-client==1.0.18->codeflare-sdk) (1.5.0)\n",
      "Requirement already satisfied: idna<4,>=2.5 in /opt/app-root/lib64/python3.11/site-packages (from requests->ray[data,default]==2.44.1->codeflare-sdk) (3.4)\n",
      "Requirement already satisfied: googleapis-common-protos<2.0.dev0,>=1.56.2 in /opt/app-root/lib64/python3.11/site-packages (from google-api-core<3.0.0,>=1.0.0->opencensus->ray[data,default]==2.44.1->codeflare-sdk) (1.60.0)\n",
      "Requirement already satisfied: parso<0.9.0,>=0.8.0 in /opt/app-root/lib64/python3.11/site-packages (from jedi>=0.16->ipython>=6.1.0->ipywidgets==8.1.2->codeflare-sdk) (0.8.3)\n",
      "Requirement already satisfied: ptyprocess>=0.5 in /opt/app-root/lib64/python3.11/site-packages (from pexpect>4.3->ipython>=6.1.0->ipywidgets==8.1.2->codeflare-sdk) (0.7.0)\n",
      "Requirement already satisfied: wcwidth in /opt/app-root/lib64/python3.11/site-packages (from prompt-toolkit!=3.0.37,<3.1.0,>=3.0.30->ipython>=6.1.0->ipywidgets==8.1.2->codeflare-sdk) (0.2.6)\n",
      "Requirement already satisfied: pyasn1<0.6.0,>=0.4.6 in /opt/app-root/lib64/python3.11/site-packages (from pyasn1-modules>=0.2.1->google-auth>=1.0.1->kubernetes>=27.2.0->codeflare-sdk) (0.5.0)\n",
      "Requirement already satisfied: asttokens>=2.1.0 in /opt/app-root/lib64/python3.11/site-packages (from stack-data->ipython>=6.1.0->ipywidgets==8.1.2->codeflare-sdk) (2.4.0)\n",
      "Requirement already satisfied: pure-eval in /opt/app-root/lib64/python3.11/site-packages (from stack-data->ipython>=6.1.0->ipywidgets==8.1.2->codeflare-sdk) (0.2.2)\n",
      "Downloading codeflare_sdk-0.28.1-py3-none-any.whl (133 kB)\n",
      "\u001b[2K   \u001b[90m━━━━━━━━━━━━━━━━━━━━━━━━━━━━━━━━━━━━━━━━\u001b[0m \u001b[32m133.7/133.7 kB\u001b[0m \u001b[31m8.4 MB/s\u001b[0m eta \u001b[36m0:00:00\u001b[0m\n",
      "\u001b[?25hDownloading cryptography-43.0.3-cp39-abi3-manylinux_2_28_x86_64.whl (4.0 MB)\n",
      "\u001b[2K   \u001b[90m━━━━━━━━━━━━━━━━━━━━━━━━━━━━━━━━━━━━━━━━\u001b[0m \u001b[32m4.0/4.0 MB\u001b[0m \u001b[31m76.5 MB/s\u001b[0m eta \u001b[36m0:00:00\u001b[0ma \u001b[36m0:00:01\u001b[0m\n",
      "\u001b[?25hDownloading ipywidgets-8.1.2-py3-none-any.whl (139 kB)\n",
      "\u001b[2K   \u001b[90m━━━━━━━━━━━━━━━━━━━━━━━━━━━━━━━━━━━━━━━\u001b[0m \u001b[32m139.4/139.4 kB\u001b[0m \u001b[31m266.9 MB/s\u001b[0m eta \u001b[36m0:00:00\u001b[0m\n",
      "\u001b[?25hDownloading kubernetes-32.0.1-py2.py3-none-any.whl (2.0 MB)\n",
      "\u001b[2K   \u001b[90m━━━━━━━━━━━━━━━━━━━━━━━━━━━━━━━━━━━━━━━━\u001b[0m \u001b[32m2.0/2.0 MB\u001b[0m \u001b[31m309.9 MB/s\u001b[0m eta \u001b[36m0:00:00\u001b[0m\n",
      "\u001b[?25hDownloading durationpy-0.9-py3-none-any.whl (3.5 kB)\n",
      "Downloading jupyterlab_widgets-3.0.15-py3-none-any.whl (216 kB)\n",
      "\u001b[2K   \u001b[90m━━━━━━━━━━━━━━━━━━━━━━━━━━━━━━━━━━━━━━━\u001b[0m \u001b[32m216.6/216.6 kB\u001b[0m \u001b[31m317.8 MB/s\u001b[0m eta \u001b[36m0:00:00\u001b[0m\n",
      "\u001b[?25hDownloading pyarrow-20.0.0-cp311-cp311-manylinux_2_28_x86_64.whl (42.3 MB)\n",
      "\u001b[2K   \u001b[90m━━━━━━━━━━━━━━━━━━━━━━━━━━━━━━━━━━━━━━━━\u001b[0m \u001b[32m42.3/42.3 MB\u001b[0m \u001b[31m29.0 MB/s\u001b[0m eta \u001b[36m0:00:00\u001b[0ma \u001b[36m0:00:01\u001b[0mm\n",
      "\u001b[?25hDownloading widgetsnbextension-4.0.14-py3-none-any.whl (2.2 MB)\n",
      "\u001b[2K   \u001b[90m━━━━━━━━━━━━━━━━━━━━━━━━━━━━━━━━━━━━━━━━\u001b[0m \u001b[32m2.2/2.2 MB\u001b[0m \u001b[31m184.4 MB/s\u001b[0m eta \u001b[36m0:00:00\u001b[0m\n",
      "\u001b[?25hDownloading ray-2.44.1-cp311-cp311-manylinux2014_x86_64.whl (68.1 MB)\n",
      "\u001b[2K   \u001b[90m━━━━━━━━━━━━━━━━━━━━━━━━━━━━━━━━━━━━━━━━\u001b[0m \u001b[32m68.1/68.1 MB\u001b[0m \u001b[31m148.6 MB/s\u001b[0m eta \u001b[36m0:00:00\u001b[0ma \u001b[36m0:00:01\u001b[0m\n",
      "\u001b[?25hInstalling collected packages: durationpy, widgetsnbextension, pyarrow, jupyterlab-widgets, cryptography, kubernetes, ray, ipywidgets, codeflare-sdk\n",
      "  Attempting uninstall: widgetsnbextension\n",
      "    Found existing installation: widgetsnbextension 4.0.9\n",
      "    Uninstalling widgetsnbextension-4.0.9:\n",
      "      Successfully uninstalled widgetsnbextension-4.0.9\n",
      "  Attempting uninstall: jupyterlab-widgets\n",
      "    Found existing installation: jupyterlab-widgets 3.0.9\n",
      "    Uninstalling jupyterlab-widgets-3.0.9:\n",
      "      Successfully uninstalled jupyterlab-widgets-3.0.9\n",
      "  Attempting uninstall: cryptography\n",
      "    Found existing installation: cryptography 40.0.2\n",
      "    Uninstalling cryptography-40.0.2:\n",
      "      Successfully uninstalled cryptography-40.0.2\n",
      "  Attempting uninstall: kubernetes\n",
      "    Found existing installation: kubernetes 25.3.0\n",
      "    Uninstalling kubernetes-25.3.0:\n",
      "      Successfully uninstalled kubernetes-25.3.0\n",
      "  Attempting uninstall: ray\n",
      "    Found existing installation: ray 2.5.0\n",
      "    Uninstalling ray-2.5.0:\n",
      "      Successfully uninstalled ray-2.5.0\n",
      "  Attempting uninstall: ipywidgets\n",
      "    Found existing installation: ipywidgets 8.1.1\n",
      "    Uninstalling ipywidgets-8.1.1:\n",
      "      Successfully uninstalled ipywidgets-8.1.1\n",
      "\u001b[31mERROR: pip's dependency resolver does not currently take into account all the packages that are installed. This behaviour is the source of the following dependency conflicts.\n",
      "kfp 1.8.22 requires kubernetes<26,>=8.0.0, but you have kubernetes 32.0.1 which is incompatible.\u001b[0m\u001b[31m\n",
      "\u001b[0mSuccessfully installed codeflare-sdk-0.28.1 cryptography-43.0.3 durationpy-0.9 ipywidgets-8.1.2 jupyterlab-widgets-3.0.15 kubernetes-32.0.1 pyarrow-20.0.0 ray-2.44.1 widgetsnbextension-4.0.14\n",
      "\n",
      "\u001b[1m[\u001b[0m\u001b[34;49mnotice\u001b[0m\u001b[1;39;49m]\u001b[0m\u001b[39;49m A new release of pip is available: \u001b[0m\u001b[31;49m23.2.1\u001b[0m\u001b[39;49m -> \u001b[0m\u001b[32;49m25.1.1\u001b[0m\n",
      "\u001b[1m[\u001b[0m\u001b[34;49mnotice\u001b[0m\u001b[1;39;49m]\u001b[0m\u001b[39;49m To update, run: \u001b[0m\u001b[32;49mpip install --upgrade pip\u001b[0m\n",
      "Note: you may need to restart the kernel to use updated packages.\n"
     ]
    }
   ],
   "source": [
    "pip install codeflare-sdk"
   ]
  },
  {
   "cell_type": "code",
   "execution_count": 1,
   "id": "e14d75c5",
   "metadata": {
    "tags": [],
    "vscode": {
     "languageId": "plaintext"
    }
   },
   "outputs": [],
   "source": [
    "from codeflare_sdk import Cluster, ClusterConfiguration, TokenAuthentication, RayJobClient\n",
    "import os\n",
    "import sys"
   ]
  },
  {
   "cell_type": "code",
   "execution_count": null,
   "id": "355054c3",
   "metadata": {
    "tags": [],
    "vscode": {
     "languageId": "plaintext"
    }
   },
   "outputs": [
    {
     "data": {
      "text/plain": [
       "'Logged into https://api.rosa-wswzx.e1i3.p3.openshiftapps.com:443'"
      ]
     },
     "execution_count": 2,
     "metadata": {},
     "output_type": "execute_result"
    }
   ],
   "source": [
    "# Authenticate the CodeFlare SDK\n",
    "# On OpenShift, you can retrieve the token by running `oc whoami -t`,\n",
    "# and the server with `oc cluster-info`.\n",
    "auth = TokenAuthentication(\n",
    "    token = '*****',\n",
    "    server = '****',\n",
    "    skip_tls=False\n",
    ")\n",
    "auth.login()"
   ]
  },
  {
   "cell_type": "code",
   "execution_count": 4,
   "id": "7b65a6c1-5f87-473f-b345-fdf6ab84ff73",
   "metadata": {
    "tags": [],
    "vscode": {
     "languageId": "plaintext"
    }
   },
   "outputs": [
    {
     "name": "stdout",
     "output_type": "stream",
     "text": [
      "Yaml resources loaded for ray\n"
     ]
    },
    {
     "data": {
      "application/vnd.jupyter.widget-view+json": {
       "model_id": "47d208b1cb0c4d9fadde3e66865bf839",
       "version_major": 2,
       "version_minor": 0
      },
      "text/plain": [
       "VBox(children=(HBox(children=(Button(description='Cluster Up', icon='play', style=ButtonStyle(), tooltip='Crea…"
      ]
     },
     "metadata": {},
     "output_type": "display_data"
    },
    {
     "data": {
      "application/vnd.jupyter.widget-view+json": {
       "model_id": "7b3e6427ad9d4b84999e263559354a58",
       "version_major": 2,
       "version_minor": 0
      },
      "text/plain": [
       "Output()"
      ]
     },
     "metadata": {},
     "output_type": "display_data"
    }
   ],
   "source": [
    "# Configure the Ray cluster\n",
    "cluster = Cluster(ClusterConfiguration(\n",
    "    name='ray',\n",
    "    namespace='hello-chris-ai',\n",
    "    num_workers=4,\n",
    "    worker_cpu_requests=4,\n",
    "    worker_cpu_limits=4,\n",
    "    worker_memory_requests=4,\n",
    "    worker_memory_limits=4,\n",
    "    # Use the following parameters with NVIDIA GPUs\n",
    "    image=\"quay.io/cnuland/dd-kuberay-worker:latest\",\n",
    "    write_to_file=False,\n",
    "    local_queue=\"user-queue\"\n",
    "))"
   ]
  },
  {
   "cell_type": "code",
   "execution_count": 5,
   "id": "2924cb7a",
   "metadata": {
    "tags": [],
    "vscode": {
     "languageId": "plaintext"
    }
   },
   "outputs": [
    {
     "name": "stdout",
     "output_type": "stream",
     "text": [
      "WARNING: The up() function is planned for deprecation in favor of apply().\n",
      "Ray Cluster: 'ray' has successfully been created\n"
     ]
    }
   ],
   "source": [
    "# Create the Ray cluster\n",
    "cluster.up()"
   ]
  },
  {
   "cell_type": "markdown",
   "id": "cbbe4444",
   "metadata": {},
   "source": []
  },
  {
   "cell_type": "code",
   "execution_count": null,
   "id": "d70b254e",
   "metadata": {
    "vscode": {
     "languageId": "plaintext"
    }
   },
   "outputs": [],
   "source": [
    "cluster.wait_ready()"
   ]
  },
  {
   "cell_type": "code",
   "execution_count": null,
   "id": "b6270953",
   "metadata": {
    "vscode": {
     "languageId": "plaintext"
    }
   },
   "outputs": [],
   "source": [
    "cluster.details()\n"
   ]
  },
  {
   "cell_type": "code",
   "execution_count": null,
   "id": "cf29b6d6",
   "metadata": {
    "vscode": {
     "languageId": "plaintext"
    }
   },
   "outputs": [],
   "source": [
    "submission_id = client.submit_job(\n",
    "    entrypoint=\"python ray-kuberay-train.ipynb\",\n",
    "    runtime_env={\n",
    "        'working_dir': './',\n",
    "        \"excludes\": [\"*.sh\", \"*.ipynb\", \"*.md\"]\n",
    "    },\n",
    ")\n",
    "print(submission_id)"
   ]
  },
  {
   "cell_type": "code",
   "execution_count": null,
   "id": "26b42872-353d-494a-9a8f-8fb0d2b2f454",
   "metadata": {},
   "outputs": [],
   "source": [
    "client.stop_job(submission_id)"
   ]
  },
  {
   "cell_type": "code",
   "execution_count": 8,
   "id": "fe5e5b35",
   "metadata": {
    "vscode": {
     "languageId": "plaintext"
    }
   },
   "outputs": [
    {
     "name": "stdout",
     "output_type": "stream",
     "text": [
      "Ray Cluster: 'ray' has successfully been deleted\n"
     ]
    }
   ],
   "source": [
    "cluster.down()"
   ]
  },
  {
   "cell_type": "code",
   "execution_count": null,
   "id": "6066df63-3ded-415e-8e1c-f5140d68c736",
   "metadata": {},
   "outputs": [],
   "source": []
  }
 ],
 "metadata": {
  "kernelspec": {
   "display_name": "Python 3.11",
   "language": "python",
   "name": "python3"
  },
  "language_info": {
   "codemirror_mode": {
    "name": "ipython",
    "version": 3
   },
   "file_extension": ".py",
   "mimetype": "text/x-python",
   "name": "python",
   "nbconvert_exporter": "python",
   "pygments_lexer": "ipython3",
   "version": "3.11.4"
  }
 },
 "nbformat": 4,
 "nbformat_minor": 5
}
