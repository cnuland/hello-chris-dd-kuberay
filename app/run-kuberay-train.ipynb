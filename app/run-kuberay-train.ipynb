{
 "cells": [
  {
   "cell_type": "code",
   "execution_count": null,
   "id": "7766ac1d-6f3c-450d-921b-089461e49796",
   "metadata": {
    "tags": []
   },
   "outputs": [],
   "source": [
    "pip install codeflare-sdk codeflare-torchx"
   ]
  },
  {
   "cell_type": "code",
   "execution_count": 1,
   "id": "e14d75c5",
   "metadata": {
    "tags": [],
    "vscode": {
     "languageId": "plaintext"
    }
   },
   "outputs": [],
   "source": [
    "from codeflare_sdk import Cluster, ClusterConfiguration, TokenAuthentication, RayJobClient, Authentication\n",
    "import os\n",
    "import sys"
   ]
  },
  {
   "cell_type": "code",
   "execution_count": 2,
   "id": "355054c3",
   "metadata": {
    "tags": [],
    "vscode": {
     "languageId": "plaintext"
    }
   },
   "outputs": [
    {
     "data": {
      "text/plain": [
       "'Logged into https://api.rosa-wswzx.e1i3.p3.openshiftapps.com:443'"
      ]
     },
     "execution_count": 2,
     "metadata": {},
     "output_type": "execute_result"
    }
   ],
   "source": [
    "# Authenticate the CodeFlare SDK\n",
    "# On OpenShift, you can retrieve the token by running `oc whoami -t`,\n",
    "# and the server with `oc cluster-info`.\n",
    "auth = TokenAuthentication(\n",
    "    token = 'sha256~fXiyTta4BqDo6fpQf1VRAJ60LABQtz2p0blvpORnfuE',\n",
    "    server = 'https://api.rosa-wswzx.e1i3.p3.openshiftapps.com:443',\n",
    "    skip_tls=False\n",
    ")\n",
    "auth.login()"
   ]
  },
  {
   "cell_type": "code",
   "execution_count": 3,
   "id": "7b65a6c1-5f87-473f-b345-fdf6ab84ff73",
   "metadata": {
    "tags": [],
    "vscode": {
     "languageId": "plaintext"
    }
   },
   "outputs": [
    {
     "name": "stdout",
     "output_type": "stream",
     "text": [
      "Yaml resources loaded for dd-rl\n"
     ]
    },
    {
     "data": {
      "application/vnd.jupyter.widget-view+json": {
       "model_id": "2b82f862a3d54acb8291bea0702be11f",
       "version_major": 2,
       "version_minor": 0
      },
      "text/plain": [
       "VBox(children=(HBox(children=(Button(description='Cluster Up', icon='play', style=ButtonStyle(), tooltip='Crea…"
      ]
     },
     "metadata": {},
     "output_type": "display_data"
    },
    {
     "data": {
      "application/vnd.jupyter.widget-view+json": {
       "model_id": "4f64e705125d49e0af97928f57b43769",
       "version_major": 2,
       "version_minor": 0
      },
      "text/plain": [
       "Output()"
      ]
     },
     "metadata": {},
     "output_type": "display_data"
    }
   ],
   "source": [
    "# Configure the Ray cluster\n",
    "cluster = Cluster(ClusterConfiguration(\n",
    "    head_cpu_requests=10,\n",
    "    head_cpu_limits=12,\n",
    "    head_memory_requests=10,\n",
    "    head_memory_limits=12,\n",
    "    name='dd-rl',\n",
    "    namespace='hello-chris-ai-4',\n",
    "    num_workers=3,\n",
    "    worker_cpu_requests=12,\n",
    "    worker_cpu_limits=16,\n",
    "    worker_memory_requests=12,\n",
    "    worker_memory_limits=20,\n",
    "    # Use the following parameters with NVIDIA GPUs\n",
    "    image=\"quay.io/cnuland/dd-kuberay-worker:latest\",\n",
    "    head_extended_resource_requests={'nvidia.com/gpu':1},\n",
    "    worker_extended_resource_requests={'nvidia.com/gpu':1},\n",
    "    write_to_file=False,\n",
    "    local_queue=\"user-queue\"\n",
    "))"
   ]
  },
  {
   "cell_type": "code",
   "execution_count": 4,
   "id": "2924cb7a",
   "metadata": {
    "tags": [],
    "vscode": {
     "languageId": "plaintext"
    }
   },
   "outputs": [
    {
     "name": "stdout",
     "output_type": "stream",
     "text": [
      "WARNING: The up() function is planned for deprecation in favor of apply().\n",
      "Ray Cluster: 'dd-rl' has successfully been created\n"
     ]
    }
   ],
   "source": [
    "# Create the Ray cluster\n",
    "cluster.up()"
   ]
  },
  {
   "cell_type": "markdown",
   "id": "cbbe4444",
   "metadata": {},
   "source": []
  },
  {
   "cell_type": "code",
   "execution_count": 5,
   "id": "d70b254e",
   "metadata": {
    "tags": [],
    "vscode": {
     "languageId": "plaintext"
    }
   },
   "outputs": [
    {
     "name": "stdout",
     "output_type": "stream",
     "text": [
      "Waiting for requested resources to be set up...\n",
      "Requested cluster is up and running!\n",
      "Dashboard is ready!\n"
     ]
    }
   ],
   "source": [
    "cluster.wait_ready()"
   ]
  },
  {
   "cell_type": "code",
   "execution_count": 6,
   "id": "b6270953",
   "metadata": {
    "tags": [],
    "vscode": {
     "languageId": "plaintext"
    }
   },
   "outputs": [
    {
     "data": {
      "text/html": [
       "<pre style=\"white-space:pre;overflow-x:auto;line-height:normal;font-family:Menlo,'DejaVu Sans Mono',consolas,'Courier New',monospace\"><span style=\"font-style: italic\">                    </span><span style=\"font-weight: bold; font-style: italic\"> 🚀 CodeFlare Cluster Details 🚀</span><span style=\"font-style: italic\">                     </span>\n",
       "<span style=\"font-weight: bold\">                                                                         </span>\n",
       " ╭─────────────────────────────────────────────────────────────────────╮ \n",
       " │   <span style=\"color: #c0c0c0; text-decoration-color: #c0c0c0; background-color: #008000; font-weight: bold\">Name</span>                                                              │ \n",
       " │   <span style=\"font-weight: bold; text-decoration: underline\">dd-rl</span>                                                 Active ✅   │ \n",
       " │                                                                     │ \n",
       " │   <span style=\"font-weight: bold\">URI:</span> ray://dd-rl-head-svc.hello-chris-ai-4.svc:10001              │ \n",
       " │                                                                     │ \n",
       " │   <a href=\"https://ray-dashboard-dd-rl-hello-chris-ai-4.apps.rosa.rosa-wswzx.e1i3.p3.openshiftapps.com\" target=\"_blank\"><span style=\"color: #000080; text-decoration-color: #000080; text-decoration: underline\">Dashboard🔗</span></a>                                                       │ \n",
       " │                                                                     │ \n",
       " │  <span style=\"font-style: italic\">                     Cluster Resources                     </span>        │ \n",
       " │   ╭── Workers ──╮  ╭───────── Worker specs(each) ─────────╮         │ \n",
       " │   │ <span style=\"font-weight: bold\"> # Workers </span> │  │ <span style=\"font-weight: bold\"> Memory      CPU         GPU        </span> │         │ \n",
       " │   │ <span style=\"color: #800080; text-decoration-color: #800080\">           </span> │  │ <span style=\"color: #008080; text-decoration-color: #008080\">            </span><span style=\"color: #800080; text-decoration-color: #800080\">                        </span> │         │ \n",
       " │   │ <span style=\"color: #800080; text-decoration-color: #800080\"> 3         </span> │  │ <span style=\"color: #008080; text-decoration-color: #008080\"> 12G~20G    </span><span style=\"color: #800080; text-decoration-color: #800080\"> 12~16       1          </span> │         │ \n",
       " │   │ <span style=\"color: #800080; text-decoration-color: #800080\">           </span> │  │ <span style=\"color: #008080; text-decoration-color: #008080\">            </span><span style=\"color: #800080; text-decoration-color: #800080\">                        </span> │         │ \n",
       " │   ╰─────────────╯  ╰──────────────────────────────────────╯         │ \n",
       " ╰─────────────────────────────────────────────────────────────────────╯ \n",
       "</pre>\n"
      ],
      "text/plain": [
       "\u001b[3m                    \u001b[0m\u001b[1;3m 🚀 CodeFlare Cluster Details 🚀\u001b[0m\u001b[3m                     \u001b[0m\n",
       "\u001b[1m \u001b[0m\u001b[1m                                                                       \u001b[0m\u001b[1m \u001b[0m\n",
       " ╭─────────────────────────────────────────────────────────────────────╮ \n",
       " │   \u001b[1;37;42mName\u001b[0m                                                              │ \n",
       " │   \u001b[1;4mdd-rl\u001b[0m                                                 Active ✅   │ \n",
       " │                                                                     │ \n",
       " │   \u001b[1mURI:\u001b[0m ray://dd-rl-head-svc.hello-chris-ai-4.svc:10001              │ \n",
       " │                                                                     │ \n",
       " │   \u001b]8;id=325075;https://ray-dashboard-dd-rl-hello-chris-ai-4.apps.rosa.rosa-wswzx.e1i3.p3.openshiftapps.com\u001b\\\u001b[4;34mDashboard🔗\u001b[0m\u001b]8;;\u001b\\                                                       │ \n",
       " │                                                                     │ \n",
       " │  \u001b[3m                     Cluster Resources                     \u001b[0m        │ \n",
       " │   ╭── Workers ──╮  ╭───────── Worker specs(each) ─────────╮         │ \n",
       " │   │ \u001b[1m \u001b[0m\u001b[1m# Workers\u001b[0m\u001b[1m \u001b[0m │  │ \u001b[1m \u001b[0m\u001b[1mMemory    \u001b[0m\u001b[1m \u001b[0m\u001b[1m \u001b[0m\u001b[1mCPU       \u001b[0m\u001b[1m \u001b[0m\u001b[1m \u001b[0m\u001b[1mGPU       \u001b[0m\u001b[1m \u001b[0m │         │ \n",
       " │   │ \u001b[35m \u001b[0m\u001b[35m         \u001b[0m\u001b[35m \u001b[0m │  │ \u001b[36m \u001b[0m\u001b[36m          \u001b[0m\u001b[36m \u001b[0m\u001b[35m \u001b[0m\u001b[35m          \u001b[0m\u001b[35m \u001b[0m\u001b[35m \u001b[0m\u001b[35m          \u001b[0m\u001b[35m \u001b[0m │         │ \n",
       " │   │ \u001b[35m \u001b[0m\u001b[35m3        \u001b[0m\u001b[35m \u001b[0m │  │ \u001b[36m \u001b[0m\u001b[36m12G~20G   \u001b[0m\u001b[36m \u001b[0m\u001b[35m \u001b[0m\u001b[35m12~16     \u001b[0m\u001b[35m \u001b[0m\u001b[35m \u001b[0m\u001b[35m1         \u001b[0m\u001b[35m \u001b[0m │         │ \n",
       " │   │ \u001b[35m \u001b[0m\u001b[35m         \u001b[0m\u001b[35m \u001b[0m │  │ \u001b[36m \u001b[0m\u001b[36m          \u001b[0m\u001b[36m \u001b[0m\u001b[35m \u001b[0m\u001b[35m          \u001b[0m\u001b[35m \u001b[0m\u001b[35m \u001b[0m\u001b[35m          \u001b[0m\u001b[35m \u001b[0m │         │ \n",
       " │   ╰─────────────╯  ╰──────────────────────────────────────╯         │ \n",
       " ╰─────────────────────────────────────────────────────────────────────╯ \n"
      ]
     },
     "metadata": {},
     "output_type": "display_data"
    },
    {
     "data": {
      "text/plain": [
       "RayCluster(name='dd-rl', status=<RayClusterStatus.READY: 'ready'>, head_cpu_requests=10, head_cpu_limits=12, head_mem_requests='10G', head_mem_limits='12G', num_workers=3, worker_mem_requests='12G', worker_mem_limits='20G', worker_cpu_requests=12, worker_cpu_limits=16, namespace='hello-chris-ai-4', dashboard='https://ray-dashboard-dd-rl-hello-chris-ai-4.apps.rosa.rosa-wswzx.e1i3.p3.openshiftapps.com', worker_extended_resources={'nvidia.com/gpu': 1}, head_extended_resources={'nvidia.com/gpu': 1})"
      ]
     },
     "execution_count": 6,
     "metadata": {},
     "output_type": "execute_result"
    }
   ],
   "source": [
    "cluster.details()"
   ]
  },
  {
   "cell_type": "code",
   "execution_count": 7,
   "id": "bf06d743-605b-40ce-8f38-085e9014c1db",
   "metadata": {
    "tags": []
   },
   "outputs": [
    {
     "data": {
      "text/html": [
       "<pre style=\"white-space:pre;overflow-x:auto;line-height:normal;font-family:Menlo,'DejaVu Sans Mono',consolas,'Courier New',monospace\"><span style=\"font-style: italic\">                    </span><span style=\"font-weight: bold; font-style: italic\"> 🚀 CodeFlare Cluster Details 🚀</span><span style=\"font-style: italic\">                     </span>\n",
       "<span style=\"font-weight: bold\">                                                                         </span>\n",
       " ╭─────────────────────────────────────────────────────────────────────╮ \n",
       " │   <span style=\"color: #c0c0c0; text-decoration-color: #c0c0c0; background-color: #008000; font-weight: bold\">Name</span>                                                              │ \n",
       " │   <span style=\"font-weight: bold; text-decoration: underline\">dd-rl</span>                                                 Active ✅   │ \n",
       " │                                                                     │ \n",
       " │   <span style=\"font-weight: bold\">URI:</span> ray://dd-rl-head-svc.hello-chris-ai-4.svc:10001              │ \n",
       " │                                                                     │ \n",
       " │   <a href=\"https://ray-dashboard-dd-rl-hello-chris-ai-4.apps.rosa.rosa-wswzx.e1i3.p3.openshiftapps.com\" target=\"_blank\"><span style=\"color: #000080; text-decoration-color: #000080; text-decoration: underline\">Dashboard🔗</span></a>                                                       │ \n",
       " │                                                                     │ \n",
       " │  <span style=\"font-style: italic\">                     Cluster Resources                     </span>        │ \n",
       " │   ╭── Workers ──╮  ╭───────── Worker specs(each) ─────────╮         │ \n",
       " │   │ <span style=\"font-weight: bold\"> # Workers </span> │  │ <span style=\"font-weight: bold\"> Memory      CPU         GPU        </span> │         │ \n",
       " │   │ <span style=\"color: #800080; text-decoration-color: #800080\">           </span> │  │ <span style=\"color: #008080; text-decoration-color: #008080\">            </span><span style=\"color: #800080; text-decoration-color: #800080\">                        </span> │         │ \n",
       " │   │ <span style=\"color: #800080; text-decoration-color: #800080\"> 3         </span> │  │ <span style=\"color: #008080; text-decoration-color: #008080\"> 12G~20G    </span><span style=\"color: #800080; text-decoration-color: #800080\"> 12~16       1          </span> │         │ \n",
       " │   │ <span style=\"color: #800080; text-decoration-color: #800080\">           </span> │  │ <span style=\"color: #008080; text-decoration-color: #008080\">            </span><span style=\"color: #800080; text-decoration-color: #800080\">                        </span> │         │ \n",
       " │   ╰─────────────╯  ╰──────────────────────────────────────╯         │ \n",
       " ╰─────────────────────────────────────────────────────────────────────╯ \n",
       "</pre>\n"
      ],
      "text/plain": [
       "\u001b[3m                    \u001b[0m\u001b[1;3m 🚀 CodeFlare Cluster Details 🚀\u001b[0m\u001b[3m                     \u001b[0m\n",
       "\u001b[1m \u001b[0m\u001b[1m                                                                       \u001b[0m\u001b[1m \u001b[0m\n",
       " ╭─────────────────────────────────────────────────────────────────────╮ \n",
       " │   \u001b[1;37;42mName\u001b[0m                                                              │ \n",
       " │   \u001b[1;4mdd-rl\u001b[0m                                                 Active ✅   │ \n",
       " │                                                                     │ \n",
       " │   \u001b[1mURI:\u001b[0m ray://dd-rl-head-svc.hello-chris-ai-4.svc:10001              │ \n",
       " │                                                                     │ \n",
       " │   \u001b]8;id=918366;https://ray-dashboard-dd-rl-hello-chris-ai-4.apps.rosa.rosa-wswzx.e1i3.p3.openshiftapps.com\u001b\\\u001b[4;34mDashboard🔗\u001b[0m\u001b]8;;\u001b\\                                                       │ \n",
       " │                                                                     │ \n",
       " │  \u001b[3m                     Cluster Resources                     \u001b[0m        │ \n",
       " │   ╭── Workers ──╮  ╭───────── Worker specs(each) ─────────╮         │ \n",
       " │   │ \u001b[1m \u001b[0m\u001b[1m# Workers\u001b[0m\u001b[1m \u001b[0m │  │ \u001b[1m \u001b[0m\u001b[1mMemory    \u001b[0m\u001b[1m \u001b[0m\u001b[1m \u001b[0m\u001b[1mCPU       \u001b[0m\u001b[1m \u001b[0m\u001b[1m \u001b[0m\u001b[1mGPU       \u001b[0m\u001b[1m \u001b[0m │         │ \n",
       " │   │ \u001b[35m \u001b[0m\u001b[35m         \u001b[0m\u001b[35m \u001b[0m │  │ \u001b[36m \u001b[0m\u001b[36m          \u001b[0m\u001b[36m \u001b[0m\u001b[35m \u001b[0m\u001b[35m          \u001b[0m\u001b[35m \u001b[0m\u001b[35m \u001b[0m\u001b[35m          \u001b[0m\u001b[35m \u001b[0m │         │ \n",
       " │   │ \u001b[35m \u001b[0m\u001b[35m3        \u001b[0m\u001b[35m \u001b[0m │  │ \u001b[36m \u001b[0m\u001b[36m12G~20G   \u001b[0m\u001b[36m \u001b[0m\u001b[35m \u001b[0m\u001b[35m12~16     \u001b[0m\u001b[35m \u001b[0m\u001b[35m \u001b[0m\u001b[35m1         \u001b[0m\u001b[35m \u001b[0m │         │ \n",
       " │   │ \u001b[35m \u001b[0m\u001b[35m         \u001b[0m\u001b[35m \u001b[0m │  │ \u001b[36m \u001b[0m\u001b[36m          \u001b[0m\u001b[36m \u001b[0m\u001b[35m \u001b[0m\u001b[35m          \u001b[0m\u001b[35m \u001b[0m\u001b[35m \u001b[0m\u001b[35m          \u001b[0m\u001b[35m \u001b[0m │         │ \n",
       " │   ╰─────────────╯  ╰──────────────────────────────────────╯         │ \n",
       " ╰─────────────────────────────────────────────────────────────────────╯ \n"
      ]
     },
     "metadata": {},
     "output_type": "display_data"
    }
   ],
   "source": [
    "clusterDetails = cluster.details()"
   ]
  },
  {
   "cell_type": "code",
   "execution_count": 9,
   "id": "cf29b6d6",
   "metadata": {
    "tags": [],
    "vscode": {
     "languageId": "plaintext"
    }
   },
   "outputs": [
    {
     "data": {
      "text/html": [
       "<pre style=\"white-space:pre;overflow-x:auto;line-height:normal;font-family:Menlo,'DejaVu Sans Mono',consolas,'Courier New',monospace\"><span style=\"font-style: italic\">                     </span><span style=\"font-weight: bold; font-style: italic\"> 🚀 CodeFlare Cluster Status 🚀</span><span style=\"font-style: italic\">                     </span>\n",
       "<span style=\"font-weight: bold\">                                                                         </span>\n",
       " ╭─────────────────────────────────────────────────────────────────────╮ \n",
       " │   <span style=\"color: #c0c0c0; text-decoration-color: #c0c0c0; background-color: #008000; font-weight: bold\">Name</span>                                                              │ \n",
       " │   <span style=\"font-weight: bold; text-decoration: underline\">dd-rl</span>                                                 Active ✅   │ \n",
       " │                                                                     │ \n",
       " │   <span style=\"font-weight: bold\">URI:</span> ray://dd-rl-head-svc.hello-chris-ai-4.svc:10001              │ \n",
       " │                                                                     │ \n",
       " │   <a href=\"https://ray-dashboard-dd-rl-hello-chris-ai-4.apps.rosa.rosa-wswzx.e1i3.p3.openshiftapps.com\" target=\"_blank\"><span style=\"color: #000080; text-decoration-color: #000080; text-decoration: underline\">Dashboard🔗</span></a>                                                       │ \n",
       " │                                                                     │ \n",
       " ╰─────────────────────────────────────────────────────────────────────╯ \n",
       "</pre>\n"
      ],
      "text/plain": [
       "\u001b[3m                     \u001b[0m\u001b[1;3m 🚀 CodeFlare Cluster Status 🚀\u001b[0m\u001b[3m                     \u001b[0m\n",
       "\u001b[1m \u001b[0m\u001b[1m                                                                       \u001b[0m\u001b[1m \u001b[0m\n",
       " ╭─────────────────────────────────────────────────────────────────────╮ \n",
       " │   \u001b[1;37;42mName\u001b[0m                                                              │ \n",
       " │   \u001b[1;4mdd-rl\u001b[0m                                                 Active ✅   │ \n",
       " │                                                                     │ \n",
       " │   \u001b[1mURI:\u001b[0m ray://dd-rl-head-svc.hello-chris-ai-4.svc:10001              │ \n",
       " │                                                                     │ \n",
       " │   \u001b]8;id=212736;https://ray-dashboard-dd-rl-hello-chris-ai-4.apps.rosa.rosa-wswzx.e1i3.p3.openshiftapps.com\u001b\\\u001b[4;34mDashboard🔗\u001b[0m\u001b]8;;\u001b\\                                                       │ \n",
       " │                                                                     │ \n",
       " ╰─────────────────────────────────────────────────────────────────────╯ \n"
      ]
     },
     "metadata": {},
     "output_type": "display_data"
    },
    {
     "name": "stderr",
     "output_type": "stream",
     "text": [
      "2025-05-19 04:09:31,851\tINFO dashboard_sdk.py:385 -- Package gcs://_ray_pkg_4f1acf0e28a879c6.zip already exists, skipping upload.\n"
     ]
    },
    {
     "name": "stdout",
     "output_type": "stream",
     "text": [
      "Ray Dashboard URL: https://ray-dashboard-dd-rl-hello-chris-ai-4.apps.rosa.rosa-wswzx.e1i3.p3.openshiftapps.com\n",
      "Attempting to connect RayJobClient to: https://ray-dashboard-dd-rl-hello-chris-ai-4.apps.rosa.rosa-wswzx.e1i3.p3.openshiftapps.com\n",
      "Submitting Ray job...\n",
      "Job submitted successfully! Submission ID: raysubmit_f9td1ftWyhqMecNv\n",
      "You can monitor the job status using client.get_job_status(submission_id)\n",
      "And logs using client.get_job_logs(submission_id)\n",
      "Job status: PENDING\n",
      "Error submitting job: name 'JobStatus' is not defined\n"
     ]
    }
   ],
   "source": [
    "# Create or connect to the Ray cluster\n",
    "cluster.status()\n",
    "print(f\"Ray Dashboard URL: {clusterDetails.dashboard}\")\n",
    "\n",
    "\n",
    "# Initialize RayJobClient\n",
    "# The address for RayJobClient should be the Ray head service, often exposed via a route or service URL.\n",
    "# CodeFlare SDK's `cluster.details()` might provide this, or `cluster.cluster_uri()` for internal access.\n",
    "# For external access (like from your notebook to submit job), you might need the Ray dashboard or a client service URL.\n",
    "# Let's assume client can connect to where jobs are submitted (usually Ray head/dashboard)\n",
    "# If your notebook runs outside the OpenShift cluster, you might need an external route to Ray head.\n",
    "# For simplicity, using cluster_uri() which is often for internal connections; adapt if needed.\n",
    "# A common pattern is to use the dashboard URL for the RayJobClient if it's accessible.\n",
    "try:\n",
    "    # Attempt connection to Ray head, may need adjustment based on network setup\n",
    "    # For jobs, it's often `address=\"ray://<head_service_host>:<port>\"`\n",
    "    # If dashboard_url is http://...:8265, client address is often the same host but port 10001 for ray client.\n",
    "    # For KubeRay, the service for Ray client is often 'raycluster-kuberay-head-svc'.\n",
    "    # The dashboard_url() from codeflare might be what you need directly or with minor modification.\n",
    "    \n",
    "    # A common approach is to use the dashboard URL if it's correctly pointing to the Ray head service endpoint.\n",
    "    # However, RayJobClient expects a Ray Client server address (ray://) or HTTP proxy.\n",
    "    # If your 'cluster.dashboard_url()' provides an HTTP URL for the dashboard,\n",
    "    # Ray Client can connect via HTTP Proxy if enabled (Ray >= 1.13).\n",
    "    # ray_client_address = \"http://\" + cluster.dashboard_url().split(\"://\")[1] # Simplified, assumes standard port or proxy setup\n",
    "    \n",
    "    # It's safer to get the specific client connection string if available.\n",
    "    # Let's assume Codeflare SDK handles this abstraction or you can derive it.\n",
    "    # If running locally and port-forwarding Ray head's client port (default 10001):\n",
    "    # client_address = \"ray://localhost:10001\"\n",
    "    # When submitting from the environment that can reach the Ray head:\n",
    "    #client_address = clusterDetails.dashboard # Check if this works directly or needs adjustment for RayJobClient\n",
    "                                         # It may need to be like \"http://<host>:<dashboard_port>\"\n",
    "    client_address = clusterDetails.dashboard\n",
    "    print(f\"Attempting to connect RayJobClient to: {client_address}\")\n",
    "    client = cluster.job_client\n",
    "\n",
    "\n",
    "except Exception as e:\n",
    "    print(f\"Error initializing RayJobClient: {e}\")\n",
    "    print(\"Please ensure the Ray client server is accessible from where you are running this notebook.\")\n",
    "    print(\"You might need to set up port-forwarding or use an external route to the Ray head service.\")\n",
    "    client = None # Ensure client is None if connection fails\n",
    "\n",
    "    \n",
    "if client:\n",
    "    print(\"Submitting Ray job...\")\n",
    "\n",
    "    try:\n",
    "        submission_id = client.submit_job(\n",
    "            entrypoint=\"python run-ray-dd.py\",\n",
    "            runtime_env={\n",
    "                \"env_vars\": {\n",
    "                    'S3_ACCESS_KEY_ID': \"minio\",\n",
    "                    'S3_SECRET_ACCESS_KEY': \"minio123\",\n",
    "                    'S3_REGION_NAME': \"region\",\n",
    "                    'S3_ENDPOINT_URL': \"https://minio-s3-minio.apps.rosa.rosa-wswzx.e1i3.p3.openshiftapps.com\",\n",
    "                     'S3_BUCKET_NAME': \"sessions\",\n",
    "\n",
    "                },\n",
    "            \n",
    "                'working_dir': './',\n",
    "                'pip': [\"boto3\"],\n",
    "                \"excludes\": [\"*.sh\", \"*.ipynb\", \"*.md\"],\n",
    "            }\n",
    "        )\n",
    "        print(f\"Job submitted successfully! Submission ID: {submission_id}\")\n",
    "        print(\"You can monitor the job status using client.get_job_status(submission_id)\")\n",
    "        print(\"And logs using client.get_job_logs(submission_id)\")\n",
    "\n",
    "        # Example: Poll for job status\n",
    "        # import time\n",
    "        while True:\n",
    "            status = client.get_job_status(submission_id)\n",
    "            print(f\"Job status: {status}\")\n",
    "            if status in [JobStatus.SUCCEEDED, JobStatus.FAILED, JobStatus.STOPPED]:\n",
    "                break\n",
    "            time.sleep(5)\n",
    "            print(f\"Final job logs:\\n{client.get_job_logs(submission_id)}\")\n",
    "\n",
    "    except Exception as e:\n",
    "        print(f\"Error submitting job: {e}\")\n",
    "else:\n",
    "    print(\"RayJobClient not initialized. Cannot submit job.\")"
   ]
  },
  {
   "cell_type": "code",
   "execution_count": 10,
   "id": "bf9b563d-6359-46ba-b920-0077a4548f88",
   "metadata": {
    "tags": []
   },
   "outputs": [
    {
     "data": {
      "text/plain": [
       "[JobDetails(type=<JobType.SUBMISSION: 'SUBMISSION'>, job_id='03000000', submission_id='raysubmit_7r6QXiEVujAMsNBS', driver_info=DriverInfo(id='03000000', node_ip_address='10.129.9.160', pid='1796'), status=<JobStatus.RUNNING: 'RUNNING'>, entrypoint='python run-ray-dd.py', message='Job is currently running.', error_type=None, start_time=1747627451820, end_time=None, metadata={}, runtime_env={'working_dir': 'gcs://_ray_pkg_4f1acf0e28a879c6.zip', 'excludes': ['*.sh', '*.ipynb', '*.md'], 'pip': {'packages': ['boto3'], 'pip_check': False}, 'env_vars': {'S3_ACCESS_KEY_ID': 'minio', 'S3_SECRET_ACCESS_KEY': 'minio123', 'S3_REGION_NAME': 'region', 'S3_ENDPOINT_URL': 'https://minio-s3-minio.apps.rosa.rosa-wswzx.e1i3.p3.openshiftapps.com', 'S3_BUCKET_NAME': 'sessions'}, '_ray_commit': 'daca7b2b1a950dc7f731e34e74c76ae383794ffe'}, driver_agent_http_address='http://10.129.9.160:52365', driver_node_id='d5eb85c43e617cddf730030b6862c146e990ed05c206c9f36346a474', driver_exit_code=None),\n",
       " JobDetails(type=<JobType.SUBMISSION: 'SUBMISSION'>, job_id=None, submission_id='raysubmit_f9td1ftWyhqMecNv', driver_info=None, status=<JobStatus.RUNNING: 'RUNNING'>, entrypoint='python run-ray-dd.py', message='Job is currently running.', error_type=None, start_time=1747627771891, end_time=None, metadata={}, runtime_env={'working_dir': 'gcs://_ray_pkg_4f1acf0e28a879c6.zip', 'excludes': ['*.sh', '*.ipynb', '*.md'], 'pip': {'packages': ['boto3'], 'pip_check': False}, 'env_vars': {'S3_ACCESS_KEY_ID': 'minio', 'S3_SECRET_ACCESS_KEY': 'minio123', 'S3_REGION_NAME': 'region', 'S3_ENDPOINT_URL': 'https://minio-s3-minio.apps.rosa.rosa-wswzx.e1i3.p3.openshiftapps.com', 'S3_BUCKET_NAME': 'sessions'}, '_ray_commit': 'daca7b2b1a950dc7f731e34e74c76ae383794ffe'}, driver_agent_http_address='http://10.129.9.160:52365', driver_node_id='d5eb85c43e617cddf730030b6862c146e990ed05c206c9f36346a474', driver_exit_code=None)]"
      ]
     },
     "execution_count": 10,
     "metadata": {},
     "output_type": "execute_result"
    }
   ],
   "source": [
    "client.list_jobs()"
   ]
  },
  {
   "cell_type": "code",
   "execution_count": 11,
   "id": "26b42872-353d-494a-9a8f-8fb0d2b2f454",
   "metadata": {
    "tags": []
   },
   "outputs": [
    {
     "data": {
      "text/plain": [
       "True"
      ]
     },
     "execution_count": 11,
     "metadata": {},
     "output_type": "execute_result"
    }
   ],
   "source": [
    "client.stop_job(submission_id)"
   ]
  },
  {
   "cell_type": "code",
   "execution_count": null,
   "id": "fe5e5b35",
   "metadata": {
    "tags": [],
    "vscode": {
     "languageId": "plaintext"
    }
   },
   "outputs": [],
   "source": [
    "cluster.down()"
   ]
  },
  {
   "cell_type": "code",
   "execution_count": null,
   "id": "0abcc16d-bdb6-40c6-ab15-8aaff97fa25c",
   "metadata": {},
   "outputs": [],
   "source": []
  }
 ],
 "metadata": {
  "kernelspec": {
   "display_name": "Python 3.11",
   "language": "python",
   "name": "python3"
  },
  "language_info": {
   "codemirror_mode": {
    "name": "ipython",
    "version": 3
   },
   "file_extension": ".py",
   "mimetype": "text/x-python",
   "name": "python",
   "nbconvert_exporter": "python",
   "pygments_lexer": "ipython3",
   "version": "3.11.4"
  }
 },
 "nbformat": 4,
 "nbformat_minor": 5
}
